{
 "cells": [
  {
   "cell_type": "markdown",
   "id": "a0f7f9f2-e0b9-4cef-9344-475b862808f6",
   "metadata": {},
   "source": [
    "# Airflow install\n",
    "posix 계열에만 사용 가능.  \n",
    "윈도우즈에서는 사용 불가.  \n",
    "  \n",
    "cloud 에서 사용하기 -> docker-compose   \n",
    "> 그냥 실행하면 볼륨 마운트한 경로들에 대한 권한 부족으로 에러 발생.  \n",
    "> 마운트할 경로에 권한 부여하고, airflow init 하고 난 후 정상 실행 가능.  \n",
    "```bash\n",
    "# 도커 실행할 머신에서 아래 경로들이 도커로 마운트된다. 권한 부여.  \n",
    "mkdir ./dags ./logs ./plugins\n",
    "echo -e \"AIRFLOW_UID=$(id -u)\\nAIRFLOW_GID=0\" > .env\n",
    "\n",
    "docker-compose up airflow-init  \n",
    "\n",
    "docker-compose up\n",
    "# 8080 web에서 airflow/airflow로 로그인  \n",
    "```"
   ]
  }
 ],
 "metadata": {
  "kernelspec": {
   "display_name": "Python 3",
   "language": "python",
   "name": "python3"
  },
  "language_info": {
   "codemirror_mode": {
    "name": "ipython",
    "version": 3
   },
   "file_extension": ".py",
   "mimetype": "text/x-python",
   "name": "python",
   "nbconvert_exporter": "python",
   "pygments_lexer": "ipython3",
   "version": "3.6.9"
  }
 },
 "nbformat": 4,
 "nbformat_minor": 5
}
