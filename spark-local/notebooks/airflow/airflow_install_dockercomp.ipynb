{
 "cells": [
  {
   "cell_type": "markdown",
   "id": "a0f7f9f2-e0b9-4cef-9344-475b862808f6",
   "metadata": {},
   "source": [
    "# Airflow install\n",
    "posix 계열에만 사용 가능.  \n",
    "윈도우즈에서는 사용 불가.  \n",
    "  \n",
    "cloud 에서 사용하기 -> docker-compose   \n",
    "> 그냥 실행하면 볼륨 마운트한 경로들에 대한 권한 부족으로 에러 발생.  \n",
    "> 마운트할 경로에 권한 부여하고, airflow init 하고 난 후 정상 실행 가능.  \n",
    "```bash\n",
    "# 도커 실행할 머신에서 아래 경로들이 도커로 마운트된다. 권한 부여.  \n",
    "mkdir ./dags ./logs ./plugins\n",
    "echo -e \"AIRFLOW_UID=$(id -u)\\nAIRFLOW_GID=0\" > .env\n",
    "\n",
    "docker-compose up airflow-init  \n",
    "\n",
    "docker-compose up\n",
    "# 8080 web에서 airflow/airflow로 로그인  \n",
    "```"
   ]
  },
  {
   "cell_type": "markdown",
   "id": "a97b9006-f100-4e6f-aae5-5d8c0a607d29",
   "metadata": {},
   "source": [
    "로컬 설치는 아래와 같이  \n",
    "```bash\n",
    "AIRFLOW_VERSION=2.0.1\n",
    "PYTHON_VERSION=\"$(python3 --version | cut -d \" \" -f 2 | cut -d \".\" -f 1-2)\"\n",
    "# For example: 3.6\n",
    "CONSTRAINT_URL=\"https://raw.githubusercontent.com/apache/airflow/constraints-${AIRFLOW_VERSION}/constraints-${PYTHON_VERSION}.txt\"\n",
    "# For example: https://raw.githubusercontent.com/apache/airflow/constraints-2.0.1/constraints-3.6.txt\n",
    "pip install \"apache-airflow==${AIRFLOW_VERSION}\" --constraint \"${CONSTRAINT_URL}\"\n",
    "```"
   ]
  },
  {
   "cell_type": "markdown",
   "id": "c5996676-5fa4-4c6d-90d1-3c36d4fd98e2",
   "metadata": {},
   "source": [
    "로컬 설치 완료 후, 실행은 아래와 같이  \n",
    "```bash\n",
    "PATH=$PATH:~/.local/bin\n",
    "airflow db init\n",
    "airflow users create \\\n",
    "    --username shwsun \\\n",
    "    --firstname Sean \\\n",
    "    --lastname Shin \\\n",
    "    --role Admin \\\n",
    "    --email shwsun@naver.com\n",
    "airflow webserver --port 8080\n",
    "airflow scheduler\n",
    "```"
   ]
  },
  {
   "cell_type": "code",
   "execution_count": null,
   "id": "6f694643-f62f-4aba-8169-4abc4b6fb8d6",
   "metadata": {},
   "outputs": [],
   "source": []
  }
 ],
 "metadata": {
  "kernelspec": {
   "display_name": "Python 3",
   "language": "python",
   "name": "python3"
  },
  "language_info": {
   "codemirror_mode": {
    "name": "ipython",
    "version": 3
   },
   "file_extension": ".py",
   "mimetype": "text/x-python",
   "name": "python",
   "nbconvert_exporter": "python",
   "pygments_lexer": "ipython3",
   "version": "3.6.9"
  }
 },
 "nbformat": 4,
 "nbformat_minor": 5
}
