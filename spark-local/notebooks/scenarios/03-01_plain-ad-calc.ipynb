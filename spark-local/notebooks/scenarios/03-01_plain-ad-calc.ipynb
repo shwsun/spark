{
 "cells": [
  {
   "cell_type": "markdown",
   "id": "01985d71-d0ba-46fc-ae43-2b361adc5308",
   "metadata": {},
   "source": [
    "# 일반 구매 차감 \n",
    "1000만 세톱 데이터에 대해 일반 구매 차감 연산 실행한 결과  \n",
    " - 전체 : 94 초  \n",
    " - 세션 생성 : 23 초  \n",
    " - 차감 계산 : 37 초 (14초.캐시)    \n",
    " - 스냅샷 저장 : 32 초  \n",
    " - 결과 확인 : 2 초  \n",
    " - 요약 결과 생성 : \n",
    " - 요약 rdb 기록 : \n"
   ]
  },
  {
   "cell_type": "code",
   "execution_count": 1,
   "id": "0657f239-2675-409d-820d-2ab11bb449d4",
   "metadata": {},
   "outputs": [],
   "source": [
    "# 필요 라이브러리 임포트  \n",
    "import socket\n",
    "import sys\n",
    "import os\n",
    "from pyspark import SparkContext, SparkConf\n",
    "from pyspark.streaming import StreamingContext\n",
    "from pyspark.sql import Row, SparkSession\n",
    "from os.path import abspath\n",
    "import findspark\n",
    "import time "
   ]
  },
  {
   "cell_type": "code",
   "execution_count": 2,
   "id": "8c16fd2f-27cc-4493-83b7-53d4762537f0",
   "metadata": {},
   "outputs": [],
   "source": [
    "# 환경변수 정의  \n",
    "scale = 1000 # 1000 만 건 수준\n",
    "PRJ_ROOT = '/user/root'\n",
    "APP_NAME = '03-01_plain-ad-calc'\n",
    "DB_NAME = 'inven'\n",
    "\n",
    "# 데이터의 파일 포맷 및 파일명  \n",
    "tbl_setop_name = 'inven/table-set-6m-50-1000'\n",
    "file_format = 'parquet'"
   ]
  },
  {
   "cell_type": "code",
   "execution_count": 3,
   "id": "4d6d1dd4-e8d4-4a9b-a8d7-3c132f54f7aa",
   "metadata": {},
   "outputs": [],
   "source": [
    "# 스파크 생성 \n",
    "def spark_creation():\n",
    "    spark = SparkSession.builder.master('yarn').appName(APP_NAME)\\\n",
    "    .config('spark.driver.cores', '2').config('spark.driver.memory', '4g')\\\n",
    "    .config('spark.num.executors', '4')\\\n",
    "    .config('spark.executor.cores', '2').config('spark.executor.memory', '2g')\\\n",
    "    .config('spark.jars', '/hive-bin/lib/mysql-connector-java-5.1.49-bin.jar')\\\n",
    "    .config('spark.driver.extraClassPath', '/hive-bin/lib/mysql-connector-java-5.1.49-bin.jar').getOrCreate()\n",
    "    sc = spark.sparkContext\n",
    "    sc\n",
    "    return spark"
   ]
  },
  {
   "cell_type": "code",
   "execution_count": 12,
   "id": "79911c4d-b827-40f8-9ccd-cb1180d3bb1b",
   "metadata": {},
   "outputs": [
    {
     "name": "stdout",
     "output_type": "stream",
     "text": [
      "-rw-r--r-- 1 root root   1006906 Mar 17 01:30 mysql-connector-java-5.1.49-bin.jar\n",
      "-rw-r--r-- 1 root staff    10476 Nov 15  2018 mysql-metadata-storage-0.12.0.jar\n"
     ]
    }
   ],
   "source": [
    "!ls -l /hive-bin/lib | grep mysql"
   ]
  },
  {
   "cell_type": "code",
   "execution_count": 4,
   "id": "1fd0b5ee-33b2-4c03-8fde-16c4a011adbc",
   "metadata": {},
   "outputs": [
    {
     "name": "stderr",
     "output_type": "stream",
     "text": [
      "/usr/local/lib/python3.6/dist-packages/pyspark/context.py:238: FutureWarning: Python 3.6 support is deprecated in Spark 3.2.\n",
      "  FutureWarning\n"
     ]
    },
    {
     "name": "stdout",
     "output_type": "stream",
     "text": [
      "CPU times: user 35.2 ms, sys: 22.1 ms, total: 57.2 ms\n",
      "Wall time: 23.6 s\n"
     ]
    }
   ],
   "source": [
    "%%time\n",
    "spark = spark_creation()"
   ]
  },
  {
   "cell_type": "markdown",
   "id": "fc8dfe5a-5097-4cf9-9670-e019e7e124c6",
   "metadata": {},
   "source": [
    "## 전체 구매 차감  \n",
    "모든 세탑에 (지정 비율 * 구매 단위) 값을 차감  \n",
    "- 인벤토리 기준 정보 조회  \n",
    "- setop 별 비율대로 구매 시간을 반영해서(1 미만 값 등 추가 고민 필요) 차감 데이터 생성 \n",
    "- 인벤시간에서 차감 데이터를 차감  \n",
    "- 차감 결과를 이용해 시간, 지역, 타겟별 잔여 리포트 생성  \n",
    "  \n",
    "원본 비율을 계속 적용하면 남는 시간이 부족해서 차감 안되는 일이나, 처음부터 비율이 낮아서 판매시간 곱해도 1이 안 되는 오차가 계속 발생할 것으로 추정  \n",
    "- (구매시간 * )잔여시간 계산 값에 일정비율?을 적용해야 차감총액이 구매시간이 될지를 찾아서, 일정비율을 적용하는 방법   \n",
    "- 비율*구매시간 결과 중 정수 계산으로 1 이상의 총합이 구매시간이 되도록 비율 가중치를 찾는 방법  \n",
    "  \n",
    "***임시처리***  \n",
    "- 반올림으로 차감 수량 결정(오차 일단 무시) \n",
    "- 부족분 분배...  (비율, 남은 수량 으로 빠르게 계산할 방법...)  \n",
    "\n",
    "## 중요  \n",
    "- 오차 범위가 큰 부족분 먼저 처리  \n",
    "- 비율 오차 처리는 내림 계산을 기본으로 나머지 차액을 회귀식으로 최소오차 비율 찾아서 일괄 적용.   \n",
    " -> 잔여가 1 남지 않은 수량을 제외하고 계산...  \n",
    "  - 1. 내림 결과,  2. 부족분 계산, 3. 비율 오차 처리  \n",
    "  - 1. 총량 계산 \n",
    "  - 2. 부족 여부 판단 (6개월분 각각? 전체? 판단 필요)   \n",
    "  - 3. (반올림) 비율 계산 결과 적용 - (-) 가능  \n",
    "  - 4. 총량 0이 아닌 세톱 모두 조회  \n",
    "  - 5. 0<x 인 로우만 조회해서 남은 비율 계산.  \n",
    "  - 6. (-) 수량 * 전체 잔여 * 5 비율 적용. -> (-)는 모두 0이 되고, 나머지는 추가 차감.  \n",
    "  - 6개월분 모두 적용  \n",
    "\n",
    "  \n",
    ">- 내림값 총합에서 남는 값을 \n",
    ">- 차감 부족분을 어떻게 분배할 지 ...  "
   ]
  },
  {
   "cell_type": "code",
   "execution_count": 5,
   "id": "533a5275-d108-4171-9c89-677aeb6158d8",
   "metadata": {},
   "outputs": [
    {
     "name": "stdout",
     "output_type": "stream",
     "text": [
      "CPU times: user 5.77 ms, sys: 434 µs, total: 6.2 ms\n",
      "Wall time: 5.47 s\n"
     ]
    },
    {
     "data": {
      "text/plain": [
       "True"
      ]
     },
     "execution_count": 5,
     "metadata": {},
     "output_type": "execute_result"
    }
   ],
   "source": [
    "%%time\n",
    "## 인벤 기준 정보 조회  \n",
    "spark.read.format(file_format).load(tbl_setop_name).createOrReplaceTempView('setop_view')\n",
    "spark.catalog.cacheTable(\"setop_view\")\n",
    "spark.catalog.isCached('setop_view')"
   ]
  },
  {
   "cell_type": "code",
   "execution_count": 7,
   "id": "4b410891-fceb-4efe-a2d3-f7e4b3dca2b6",
   "metadata": {},
   "outputs": [
    {
     "name": "stdout",
     "output_type": "stream",
     "text": [
      "+---------------+---------------+---------------+---------------+---------------+---------------+\n",
      "|sum(inv_val_01)|sum(inv_val_02)|sum(inv_val_03)|sum(inv_val_04)|sum(inv_val_05)|sum(inv_val_06)|\n",
      "+---------------+---------------+---------------+---------------+---------------+---------------+\n",
      "|    10000000000|    10000000000|    10000000000|    10000000000|    10000000000|    10000000000|\n",
      "+---------------+---------------+---------------+---------------+---------------+---------------+\n",
      "\n",
      "CPU times: user 2.78 ms, sys: 721 µs, total: 3.5 ms\n",
      "Wall time: 837 ms\n"
     ]
    }
   ],
   "source": [
    "%%time\n",
    "# 1) 총량 계산 : 최초 24 초. 재실행 시 1초 미만. \n",
    "sql_total = \"select sum(inv_val_01), sum(inv_val_02), sum(inv_val_03), sum(inv_val_04), sum(inv_val_05), sum(inv_val_06) from setop_view\"\n",
    "spark.sql(sql_total).show()"
   ]
  },
  {
   "cell_type": "code",
   "execution_count": 35,
   "id": "b2f8f6f2-f5b0-475d-8886-758575d69141",
   "metadata": {},
   "outputs": [
    {
     "name": "stdout",
     "output_type": "stream",
     "text": [
      "Collecting matplotlib\n",
      "  Using cached matplotlib-3.3.4-cp36-cp36m-manylinux1_x86_64.whl (11.5 MB)\n",
      "Requirement already satisfied: cycler>=0.10 in /usr/local/lib/python3.6/dist-packages (from matplotlib) (0.11.0)\n",
      "Requirement already satisfied: python-dateutil>=2.1 in /usr/local/lib/python3.6/dist-packages (from matplotlib) (2.8.2)\n",
      "Requirement already satisfied: kiwisolver>=1.0.1 in /usr/local/lib/python3.6/dist-packages (from matplotlib) (1.3.1)\n",
      "Collecting pillow>=6.2.0\n",
      "  Downloading Pillow-8.4.0-cp36-cp36m-manylinux_2_17_x86_64.manylinux2014_x86_64.whl (3.1 MB)\n",
      "     |################################| 3.1 MB 1.8 MB/s            \n",
      "\u001b[?25hRequirement already satisfied: numpy>=1.15 in /usr/local/lib/python3.6/dist-packages (from matplotlib) (1.19.5)\n",
      "Requirement already satisfied: pyparsing!=2.0.4,!=2.1.2,!=2.1.6,>=2.0.3 in /usr/local/lib/python3.6/dist-packages (from matplotlib) (3.0.7)\n",
      "Requirement already satisfied: six>=1.5 in /usr/lib/python3/dist-packages (from python-dateutil>=2.1->matplotlib) (1.11.0)\n",
      "Installing collected packages: pillow, matplotlib\n",
      "Successfully installed matplotlib-3.3.4 pillow-8.4.0\n",
      "\u001b[33mWARNING: Running pip as the 'root' user can result in broken permissions and conflicting behaviour with the system package manager. It is recommended to use a virtual environment instead: https://pip.pypa.io/warnings/venv\u001b[0m\n"
     ]
    }
   ],
   "source": [
    "#!pip install numpy pandas\n",
    "#!python3 -m pip install -U pip\n",
    "# !pip install matplotlib"
   ]
  },
  {
   "cell_type": "code",
   "execution_count": 50,
   "id": "0d74802b-4edf-4916-bdfb-320f46b27718",
   "metadata": {},
   "outputs": [],
   "source": [
    "# # 2) 부족 여부 판단. 생략 ... \n",
    "# # 아래는 총합 100% 근사한 분포수 생성  \n",
    "# import numpy as np\n",
    "# import matplotlib.pyplot as plt  \n",
    "\n",
    "# cnt = 10000*1000\n",
    "# rates = np.random.normal(loc=2/cnt*50, scale=1/cnt, size=cnt)\n",
    "# plt.hist(rates)\n",
    "# print(sum(rates))"
   ]
  },
  {
   "cell_type": "code",
   "execution_count": 59,
   "id": "730e5f5d-7ebc-4105-b074-fe4f30b8cd2a",
   "metadata": {},
   "outputs": [
    {
     "name": "stdout",
     "output_type": "stream",
     "text": [
      "+-------------------+-------------------+-------------------+-------------------+-------------------+-------------------+\n",
      "|         inv_val_01|         inv_val_02|         inv_val_03|         inv_val_04|         inv_val_05|         inv_val_06|\n",
      "+-------------------+-------------------+-------------------+-------------------+-------------------+-------------------+\n",
      "|-1000.0000000251916|-1000.0000000251916|-1000.0000000251916|-1000.0000000251916|-1000.0000000251916|-1000.0000000251916|\n",
      "+-------------------+-------------------+-------------------+-------------------+-------------------+-------------------+\n",
      "\n",
      "CPU times: user 3.81 ms, sys: 0 ns, total: 3.81 ms\n",
      "Wall time: 1.54 s\n"
     ]
    }
   ],
   "source": [
    "%%time \n",
    "# 3) 비율 계산 반올림  \n",
    "pcnt = 1000*1000*10 # 100 이어야 하지만 1천만건 하드 코딩 비율 조정 위해 임시값. \n",
    "sql_total = f\"select setop, -(inv_val_01*inv_rate_01/{pcnt}) inv_val_01, -(inv_val_02*inv_rate_02/{pcnt}) inv_val_02, -(inv_val_03*inv_rate_03/{pcnt}) inv_val_03\\\n",
    ", -(inv_val_04*inv_rate_04/{pcnt}) inv_val_04, -(inv_val_05*inv_rate_05/{pcnt}) inv_val_05, -(inv_val_06*inv_rate_06/{pcnt}) inv_val_06 from setop_view\"\n",
    "sql_all = f\"select sum(inv_val_01) inv_val_01, sum(inv_val_02) inv_val_02, sum(inv_val_03) inv_val_03\\\n",
    ", sum(inv_val_04) inv_val_04, sum(inv_val_05) inv_val_05, sum(inv_val_06) inv_val_06 from ({sql_total}) as AL\"\n",
    "\n",
    "spark.sql(sql_all).show()"
   ]
  },
  {
   "cell_type": "code",
   "execution_count": 65,
   "id": "94d24274-a790-4d61-91e8-ce54b20d841c",
   "metadata": {},
   "outputs": [
    {
     "name": "stdout",
     "output_type": "stream",
     "text": [
      "CPU times: user 2.87 ms, sys: 449 µs, total: 3.32 ms\n",
      "Wall time: 82 ms\n"
     ]
    }
   ],
   "source": [
    "%%time\n",
    "# 3) 차감 계산  \n",
    "sql_calc = f\"select setop, sum(inv_val_01) inv_val_01 , sum(inv_val_02) inv_val_02, sum(inv_val_03) inv_val_03\\\n",
    ", sum(inv_val_04) inv_val_04 , sum(inv_val_05) inv_val_05, sum(inv_val_06) inv_val_06 \\\n",
    "from ( \\\n",
    "{sql_total} \\\n",
    "UNION ALL \\\n",
    "select setop, inv_val_01, inv_val_02, inv_val_03, inv_val_04, inv_val_05, inv_val_06 from setop_view \\\n",
    ") as AL \\\n",
    "group by setop\"\n",
    "#spark.sql(sql_calc).count()\n",
    "spark.sql(sql_calc).createOrReplaceTempView(\"tbl_subtracted\")\n",
    "# 차감 스냅샷 기록  \n",
    "# ...  "
   ]
  },
  {
   "cell_type": "code",
   "execution_count": 69,
   "id": "799e030a-f2ee-439a-a33b-9ddc8117c9ab",
   "metadata": {},
   "outputs": [
    {
     "name": "stdout",
     "output_type": "stream",
     "text": [
      "CPU times: user 0 ns, sys: 3.64 ms, total: 3.64 ms\n",
      "Wall time: 30.1 ms\n"
     ]
    }
   ],
   "source": [
    "%%time\n",
    "# 4) 총량 0이 아닌 세톱 조회  \n",
    "spark.sql(\"select * from tbl_subtracted where inv_val_01>0 or inv_val_02>0 or \\\n",
    "inv_val_03>0 or inv_val_04>0 or inv_val_05>0 or inv_val_06>0 \").createOrReplaceTempView(\"tbl_remains\")"
   ]
  },
  {
   "cell_type": "code",
   "execution_count": 74,
   "id": "20cb46bc-600b-40c9-9753-b550700369ce",
   "metadata": {},
   "outputs": [
    {
     "name": "stdout",
     "output_type": "stream",
     "text": [
      "+------------+--------------------+--------------------+--------------------+--------------------+--------------------+--------------------+\n",
      "|       setop|          inv_val_01|          inv_val_02|          inv_val_03|          inv_val_04|          inv_val_05|          inv_val_06|\n",
      "+------------+--------------------+--------------------+--------------------+--------------------+--------------------+--------------------+\n",
      "|ST_A_0599356|-1.00000000000107...|-9.00000000000968...|-9.50000000001022...|-8.50000000000914...|-8.80000000000946...|-8.90000000000957...|\n",
      "|ST_A_0599582|-1.00000000000107...|-9.00000000000968...|-9.50000000001022...|-8.50000000000914...|-8.80000000000946...|-8.90000000000957...|\n",
      "|ST_A_0599837|-1.00000000000107...|-9.00000000000968...|-9.50000000001022...|-8.50000000000914...|-8.80000000000946...|-8.90000000000957...|\n",
      "|ST_A_0599913|-1.00000000000107...|-9.00000000000968...|-9.50000000001022...|-8.50000000000914...|-8.80000000000946...|-8.90000000000957...|\n",
      "|ST_A_0600125|-1.00000000000107...|-9.00000000000968...|-9.50000000001022...|-8.50000000000914...|-8.80000000000946...|-8.90000000000957...|\n",
      "+------------+--------------------+--------------------+--------------------+--------------------+--------------------+--------------------+\n",
      "\n",
      "CPU times: user 15.5 ms, sys: 439 µs, total: 15.9 ms\n",
      "Wall time: 41.9 s\n"
     ]
    }
   ],
   "source": [
    "%%time\n",
    "# 5) 남은 비율 계산 : 42 초    \n",
    "# 5-1) (-) 수량. 일단 하드 코딩 \n",
    "#spark.sql(\"select 1000 inv_val_01, 900 inv_val_02, 950 inv_val_03, 850 inv_val_04, 810 inv_val_05, 890 inv_val_06\").createOrReplaceTempView(\"remains_qty\")\n",
    "remains = [1000, 900, 950, 850, 880, 890]\n",
    "totals = \"\"\"select \n",
    "sum(inv_val_01) inv_val_01, sum(inv_val_02) inv_val_02, sum(inv_val_03) inv_val_03\n",
    ", sum(inv_val_04) inv_val_04, sum(inv_val_05) inv_val_05, sum(inv_val_06) inv_val_06 \n",
    "from tbl_remains\n",
    "\"\"\"\n",
    "spark.sql(totals).createOrReplaceTempView(\"totals\")\n",
    "# 5-2) 도수 / 남은 총량. 남은 수량을 차감할 비율. \n",
    "sql_minus_remains = f\"\"\"\n",
    "select setop\n",
    ", -{remains[0]}*tbl_remains.inv_val_01/totals.inv_val_01 inv_val_01, -{remains[1]}*tbl_remains.inv_val_02/totals.inv_val_02 inv_val_02 \n",
    ", -{remains[2]}*tbl_remains.inv_val_03/totals.inv_val_03 inv_val_03, -{remains[3]}*tbl_remains.inv_val_04/totals.inv_val_04 inv_val_04 \n",
    ", -{remains[4]}*tbl_remains.inv_val_05/totals.inv_val_05 inv_val_05, -{remains[5]}*tbl_remains.inv_val_06/totals.inv_val_06 inv_val_06 \n",
    "from tbl_remains cross join totals \n",
    "\"\"\"\n",
    "spark.sql(sql_minus_remains).createOrReplaceTempView(\"minus_remains\")\n",
    "\n",
    "#spark.sql(\"select * from minus_remains limit 5\").show()"
   ]
  },
  {
   "cell_type": "code",
   "execution_count": 75,
   "id": "389c97e7-2516-4752-be1f-719f8d29fb42",
   "metadata": {},
   "outputs": [
    {
     "name": "stdout",
     "output_type": "stream",
     "text": [
      "CPU times: user 17.8 ms, sys: 2.9 ms, total: 20.7 ms\n",
      "Wall time: 1min 8s\n"
     ]
    }
   ],
   "source": [
    "%%time\n",
    "# 6) 추가 차감 및 결과 스냅샷 기록 : 70 초   \n",
    "sql_result = \"\"\"\n",
    "select setop\n",
    ", sum(inv_val_01) inv_val_01 , sum(inv_val_02) inv_val_02\n",
    ", sum(inv_val_03) inv_val_03 , sum(inv_val_04) inv_val_04\n",
    ", sum(inv_val_05) inv_val_05 , sum(inv_val_06) inv_val_06\n",
    "from \n",
    "(\n",
    "select * \n",
    "from tbl_subtracted \n",
    "UNION ALL \n",
    "select * \n",
    "from minus_remains\n",
    ") as A \n",
    "group by setop \n",
    "\"\"\"\n",
    "\n",
    "result = spark.sql(sql_result)\n",
    "result.write.save(path=\"result\", format=file_format, mode='overwrite')"
   ]
  },
  {
   "cell_type": "code",
   "execution_count": null,
   "id": "8f6a2554-ff77-4642-b5d5-a221811ddc07",
   "metadata": {},
   "outputs": [],
   "source": []
  },
  {
   "cell_type": "code",
   "execution_count": 76,
   "id": "1635bd75-b631-4b7e-9a34-59ebc204ee21",
   "metadata": {},
   "outputs": [
    {
     "name": "stdout",
     "output_type": "stream",
     "text": [
      "Row count = 10,000,000\n",
      "CPU times: user 4.64 ms, sys: 59 µs, total: 4.7 ms\n",
      "Wall time: 1.3 s\n"
     ]
    }
   ],
   "source": [
    "%%time\n",
    "cnt = spark.read.format(file_format).load('result').count()\n",
    "print(f'Row count = {cnt:,}')"
   ]
  },
  {
   "cell_type": "code",
   "execution_count": null,
   "id": "41296c49-63f2-4ac7-8e13-e3888e2b4e84",
   "metadata": {},
   "outputs": [],
   "source": [
    "# 스냅샷에서 차감 리포트 생성  \n",
    "# ...  "
   ]
  },
  {
   "cell_type": "code",
   "execution_count": 10,
   "id": "ab6d5521-e13a-4cd7-818d-4810cab4cc9d",
   "metadata": {},
   "outputs": [
    {
     "name": "stdout",
     "output_type": "stream",
     "text": [
      "CPU times: user 2.09 ms, sys: 7.54 ms, total: 9.63 ms\n",
      "Wall time: 18.8 s\n"
     ]
    }
   ],
   "source": [
    "%%time\n",
    "# rdb 쓰기 테스트 \n",
    "# conf = SparkConf()  # create the configuration\n",
    "#conf.set(\"spark.jars\", \"/path/to/postgresql-connector-java-someversion-bin.jar\")  # set the spark.jars\n",
    "# --driver-class-path postgresql-9.4.1207.jar --jars postgresql-9.4.1207.jar\n",
    "# /hadoop/share/hadoop/yarn/lib 에 mysql jdbc.jar 넣는다.  \n",
    "props = {\"driver\":\"com.mysql.jdbc.Driver\"}\n",
    "db_url = \"jdbc:mysql://rdb/test_jdbc?user=jdbc&password=jdbc\"\n",
    "tbl = \"from_spark\"\n",
    "rdb = spark.sql('select * from result limit 10')\n",
    "rdb.write.jdbc(db_url, tbl, mode='overwrite', properties=props)"
   ]
  },
  {
   "cell_type": "code",
   "execution_count": null,
   "id": "d6377b62-b427-4143-894e-044bcf81be04",
   "metadata": {},
   "outputs": [],
   "source": [
    "# jdbcDF = spark.read \\\n",
    "#     .format(\"jdbc\") \\\n",
    "#     .option(\"url\", \"jdbc:postgresql:dbserver\") \\\n",
    "#     .option(\"dbtable\", \"jdbc:postgresql:dbserver\") \\\n",
    "#     .load()"
   ]
  },
  {
   "cell_type": "code",
   "execution_count": 8,
   "id": "8388b65d-c6a4-42b9-aef7-42832525b586",
   "metadata": {},
   "outputs": [],
   "source": [
    "spark.stop()"
   ]
  }
 ],
 "metadata": {
  "kernelspec": {
   "display_name": "Python 3",
   "language": "python",
   "name": "python3"
  },
  "language_info": {
   "codemirror_mode": {
    "name": "ipython",
    "version": 3
   },
   "file_extension": ".py",
   "mimetype": "text/x-python",
   "name": "python",
   "nbconvert_exporter": "python",
   "pygments_lexer": "ipython3",
   "version": "3.6.9"
  }
 },
 "nbformat": 4,
 "nbformat_minor": 5
}
