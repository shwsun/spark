{
 "cells": [
  {
   "cell_type": "markdown",
   "id": "6f0c0d16-5a13-431a-8bad-2ecb296b9e58",
   "metadata": {
    "tags": []
   },
   "source": [
    "# RDD & pandas 방식 차감 성능 테스트  \n",
    "- rdd cache 이용한 차감 전체 차감 속도 측정(stream server 안에서)  \n",
    "- pandas 이용한 로컬 차감 속도 측정  \n"
   ]
  },
  {
   "cell_type": "code",
   "execution_count": 1,
   "id": "a58f38ae-76fd-4436-86a9-190f36e6edc3",
   "metadata": {},
   "outputs": [],
   "source": [
    "# 필요 라이브러리 임포트  \n",
    "import socket\n",
    "import sys\n",
    "import os\n",
    "from pyspark import SparkContext, SparkConf\n",
    "from pyspark.streaming import StreamingContext\n",
    "from pyspark.sql import Row, SparkSession\n",
    "from os.path import abspath\n",
    "# import findspark\n",
    "import time \n",
    "import numpy as np \n",
    "import pandas as pd\n",
    "import pyarrow "
   ]
  },
  {
   "cell_type": "code",
   "execution_count": 3,
   "id": "e68f6126-9fcc-42e7-a77a-8e194d9f7e6a",
   "metadata": {},
   "outputs": [],
   "source": [
    "# # !pip install jupyter-resource-usage jupyterlab-system-monitor jupyterlab-topbar-extension\n",
    "# !pip install jupyterlab-topbar jupyterlab-topbar-text jupyterlab-topbar-extension"
   ]
  },
  {
   "cell_type": "code",
   "execution_count": 2,
   "id": "71d62cca-1e71-4162-af99-1c6a0f80b275",
   "metadata": {},
   "outputs": [],
   "source": [
    "# 환경변수 정의  \n",
    "scale = 1000 # 1000 만 건 수준\n",
    "PRJ_ROOT = '/user/root'\n",
    "APP_NAME = 'RDD-Pandas'\n",
    "DB_NAME = 'inven'\n",
    "\n",
    "# 데이터의 파일 포맷 및 파일명  \n",
    "tbl_setop_name = 'inven/table-set-6m-20-1000'\n",
    "file_format = 'parquet'"
   ]
  },
  {
   "cell_type": "code",
   "execution_count": 3,
   "id": "eea1a67a-8ec9-447c-a575-fe53411cce2c",
   "metadata": {},
   "outputs": [],
   "source": [
    "# 스파크 생성 \n",
    "def spark_creation():\n",
    "    spark = SparkSession.builder.master('yarn').appName(APP_NAME)\\\n",
    "    .config('spark.rpc.message.maxSize', '1024')\\\n",
    "    .config('spark.sql.execution.arrow.enabled', 'true')\\\n",
    "    .config('spark.driver.cores', '1').config('spark.driver.memory', '7g')\\\n",
    "    .config('spark.num.executors', '3')\\\n",
    "    .config('spark.executor.cores', '1').config('spark.executor.memory', '7g')\\\n",
    "    .config('spark.jars', '/hive-bin/lib/mysql-connector-java-5.1.49-bin.jar')\\\n",
    "    .config('spark.driver.extraClassPath', '/hive-bin/lib/mysql-connector-java-5.1.49-bin.jar').getOrCreate()\n",
    "    #     .config('spark.sql.execution.arrow.enabled', 'true')\\\n",
    "    # spark.rpc.message.maxSize  240007497 \n",
    "    sc = spark.sparkContext\n",
    "    sc\n",
    "    return spark"
   ]
  },
  {
   "cell_type": "code",
   "execution_count": 4,
   "id": "ed042fa3-249f-46fb-96a0-59f4b04114f9",
   "metadata": {},
   "outputs": [
    {
     "name": "stderr",
     "output_type": "stream",
     "text": [
      "/usr/local/lib/python3.6/dist-packages/pyspark/context.py:238: FutureWarning: Python 3.6 support is deprecated in Spark 3.2.\n",
      "  FutureWarning\n"
     ]
    },
    {
     "name": "stdout",
     "output_type": "stream",
     "text": [
      "CPU times: user 35.8 ms, sys: 10.1 ms, total: 45.9 ms\n",
      "Wall time: 20 s\n"
     ]
    },
    {
     "data": {
      "text/html": [
       "\n",
       "            <div>\n",
       "                <p><b>SparkSession - in-memory</b></p>\n",
       "                \n",
       "        <div>\n",
       "            <p><b>SparkContext</b></p>\n",
       "\n",
       "            <p><a href=\"http://spark-master:4040\">Spark UI</a></p>\n",
       "\n",
       "            <dl>\n",
       "              <dt>Version</dt>\n",
       "                <dd><code>v3.1.3</code></dd>\n",
       "              <dt>Master</dt>\n",
       "                <dd><code>yarn</code></dd>\n",
       "              <dt>AppName</dt>\n",
       "                <dd><code>RDD-Pandas</code></dd>\n",
       "            </dl>\n",
       "        </div>\n",
       "        \n",
       "            </div>\n",
       "        "
      ],
      "text/plain": [
       "<pyspark.sql.session.SparkSession at 0x7f1052618908>"
      ]
     },
     "execution_count": 4,
     "metadata": {},
     "output_type": "execute_result"
    }
   ],
   "source": [
    "%%time\n",
    "spark = spark_creation()\n",
    "spark"
   ]
  },
  {
   "cell_type": "markdown",
   "id": "0491304e-d3fa-4d5d-9ee8-2080feef6cf6",
   "metadata": {},
   "source": [
    "### 데이터 적재  "
   ]
  },
  {
   "cell_type": "code",
   "execution_count": 5,
   "id": "b3f1eb30-6de6-4b5b-b0fb-7ea927259db1",
   "metadata": {},
   "outputs": [
    {
     "name": "stdout",
     "output_type": "stream",
     "text": [
      "CPU times: user 5.44 ms, sys: 325 µs, total: 5.77 ms\n",
      "Wall time: 4.86 s\n"
     ]
    },
    {
     "data": {
      "text/plain": [
       "True"
      ]
     },
     "execution_count": 5,
     "metadata": {},
     "output_type": "execute_result"
    }
   ],
   "source": [
    "%%time\n",
    "## 인벤 기준 정보 조회  \n",
    "spark.read.format(file_format).load(tbl_setop_name).createOrReplaceTempView('setop_view')\n",
    "spark.catalog.cacheTable(\"setop_view\")\n",
    "spark.catalog.isCached('setop_view')"
   ]
  },
  {
   "cell_type": "markdown",
   "id": "d1a28079-4b53-44d4-92fe-52c50670e8b7",
   "metadata": {},
   "source": [
    "# 최초 적재 & 캐싱 & 차감 캐싱  \n",
    "최초 완전 적재 후에 이에 대해 연산 후, 캐싱한다.  \n",
    "캐싱 결과를 빠르게 사용할 수 있는 지 확인하고, 캐싱 시간을 확인  \n",
    "  \n",
    "- 최초 select 100 : 25 초 \n",
    "- 2번째 : filter : 1.1 초  "
   ]
  },
  {
   "cell_type": "code",
   "execution_count": 7,
   "id": "26d5f01c-5de5-4f7e-b779-877f48e18958",
   "metadata": {
    "tags": []
   },
   "outputs": [
    {
     "name": "stdout",
     "output_type": "stream",
     "text": [
      "+------------+-----------+----------+----------+-----------+----------+----------+-----------+----------+----------+-----------+----------+----------+-----------+----------+----------+-----------+----------+----------+-----+\n",
      "|       setop|inv_rate_01|inv_val_01|inv_req_01|inv_rate_02|inv_val_02|inv_req_02|inv_rate_03|inv_val_03|inv_req_03|inv_rate_04|inv_val_04|inv_req_04|inv_rate_05|inv_val_05|inv_req_05|inv_rate_06|inv_val_06|inv_req_06|stype|\n",
      "+------------+-----------+----------+----------+-----------+----------+----------+-----------+----------+----------+-----------+----------+----------+-----------+----------+----------+-----------+----------+----------+-----+\n",
      "|ST_A_0000000|     1.0E-5|      1000|         0|     1.0E-5|      1000|         0|     1.0E-5|      1000|         0|     1.0E-5|      1000|         0|     1.0E-5|      1000|         0|     1.0E-5|      1000|         0| ST_A|\n",
      "|ST_A_0000001|     1.0E-5|      1000|         0|     1.0E-5|      1000|         0|     1.0E-5|      1000|         0|     1.0E-5|      1000|         0|     1.0E-5|      1000|         0|     1.0E-5|      1000|         0| ST_A|\n",
      "|ST_A_0000002|     1.0E-5|      1000|         0|     1.0E-5|      1000|         0|     1.0E-5|      1000|         0|     1.0E-5|      1000|         0|     1.0E-5|      1000|         0|     1.0E-5|      1000|         0| ST_A|\n",
      "|ST_A_0000003|     1.0E-5|      1000|         0|     1.0E-5|      1000|         0|     1.0E-5|      1000|         0|     1.0E-5|      1000|         0|     1.0E-5|      1000|         0|     1.0E-5|      1000|         0| ST_A|\n",
      "|ST_A_0000004|     1.0E-5|      1000|         0|     1.0E-5|      1000|         0|     1.0E-5|      1000|         0|     1.0E-5|      1000|         0|     1.0E-5|      1000|         0|     1.0E-5|      1000|         0| ST_A|\n",
      "|ST_A_0000005|     1.0E-5|      1000|         0|     1.0E-5|      1000|         0|     1.0E-5|      1000|         0|     1.0E-5|      1000|         0|     1.0E-5|      1000|         0|     1.0E-5|      1000|         0| ST_A|\n",
      "|ST_A_0000006|     1.0E-5|      1000|         0|     1.0E-5|      1000|         0|     1.0E-5|      1000|         0|     1.0E-5|      1000|         0|     1.0E-5|      1000|         0|     1.0E-5|      1000|         0| ST_A|\n",
      "|ST_A_0000007|     1.0E-5|      1000|         0|     1.0E-5|      1000|         0|     1.0E-5|      1000|         0|     1.0E-5|      1000|         0|     1.0E-5|      1000|         0|     1.0E-5|      1000|         0| ST_A|\n",
      "|ST_A_0000008|     1.0E-5|      1000|         0|     1.0E-5|      1000|         0|     1.0E-5|      1000|         0|     1.0E-5|      1000|         0|     1.0E-5|      1000|         0|     1.0E-5|      1000|         0| ST_A|\n",
      "|ST_A_0000009|     1.0E-5|      1000|         0|     1.0E-5|      1000|         0|     1.0E-5|      1000|         0|     1.0E-5|      1000|         0|     1.0E-5|      1000|         0|     1.0E-5|      1000|         0| ST_A|\n",
      "|ST_A_0000010|     1.0E-5|      1000|         0|     1.0E-5|      1000|         0|     1.0E-5|      1000|         0|     1.0E-5|      1000|         0|     1.0E-5|      1000|         0|     1.0E-5|      1000|         0| ST_A|\n",
      "|ST_A_0000011|     1.0E-5|      1000|         0|     1.0E-5|      1000|         0|     1.0E-5|      1000|         0|     1.0E-5|      1000|         0|     1.0E-5|      1000|         0|     1.0E-5|      1000|         0| ST_A|\n",
      "|ST_A_0000012|     1.0E-5|      1000|         0|     1.0E-5|      1000|         0|     1.0E-5|      1000|         0|     1.0E-5|      1000|         0|     1.0E-5|      1000|         0|     1.0E-5|      1000|         0| ST_A|\n",
      "|ST_A_0000013|     1.0E-5|      1000|         0|     1.0E-5|      1000|         0|     1.0E-5|      1000|         0|     1.0E-5|      1000|         0|     1.0E-5|      1000|         0|     1.0E-5|      1000|         0| ST_A|\n",
      "|ST_A_0000014|     1.0E-5|      1000|         0|     1.0E-5|      1000|         0|     1.0E-5|      1000|         0|     1.0E-5|      1000|         0|     1.0E-5|      1000|         0|     1.0E-5|      1000|         0| ST_A|\n",
      "|ST_A_0000015|     1.0E-5|      1000|         0|     1.0E-5|      1000|         0|     1.0E-5|      1000|         0|     1.0E-5|      1000|         0|     1.0E-5|      1000|         0|     1.0E-5|      1000|         0| ST_A|\n",
      "|ST_A_0000016|     1.0E-5|      1000|         0|     1.0E-5|      1000|         0|     1.0E-5|      1000|         0|     1.0E-5|      1000|         0|     1.0E-5|      1000|         0|     1.0E-5|      1000|         0| ST_A|\n",
      "|ST_A_0000017|     1.0E-5|      1000|         0|     1.0E-5|      1000|         0|     1.0E-5|      1000|         0|     1.0E-5|      1000|         0|     1.0E-5|      1000|         0|     1.0E-5|      1000|         0| ST_A|\n",
      "|ST_A_0000018|     1.0E-5|      1000|         0|     1.0E-5|      1000|         0|     1.0E-5|      1000|         0|     1.0E-5|      1000|         0|     1.0E-5|      1000|         0|     1.0E-5|      1000|         0| ST_A|\n",
      "|ST_A_0000019|     1.0E-5|      1000|         0|     1.0E-5|      1000|         0|     1.0E-5|      1000|         0|     1.0E-5|      1000|         0|     1.0E-5|      1000|         0|     1.0E-5|      1000|         0| ST_A|\n",
      "+------------+-----------+----------+----------+-----------+----------+----------+-----------+----------+----------+-----------+----------+----------+-----------+----------+----------+-----------+----------+----------+-----+\n",
      "only showing top 20 rows\n",
      "\n",
      "CPU times: user 3.24 ms, sys: 0 ns, total: 3.24 ms\n",
      "Wall time: 1.13 s\n"
     ]
    }
   ],
   "source": [
    "%%time\n",
    "# 최초 select 100 : 25 초 \n",
    "# 2번째 : filter : 1.1 초  \n",
    "spark.sql(\"select * from setop_view where stype='ST_A' limit 100 \").show()"
   ]
  },
  {
   "cell_type": "code",
   "execution_count": 9,
   "id": "6448a1a0-f708-4f8e-80ee-ef66ac1c03df",
   "metadata": {},
   "outputs": [
    {
     "name": "stdout",
     "output_type": "stream",
     "text": [
      "+---------------+-----+\n",
      "|sum(inv_val_01)|stype|\n",
      "+---------------+-----+\n",
      "|     1000000000| ST_J|\n",
      "|     1000000000| ST_I|\n",
      "|      999000000| ST_A|\n",
      "|     1000000000| ST_H|\n",
      "|     1000000000| ST_D|\n",
      "|     1000000000| ST_B|\n",
      "|     1000000000| ST_E|\n",
      "|     1000000000| ST_C|\n",
      "|     1000000000| ST_F|\n",
      "|     1000000000| ST_G|\n",
      "+---------------+-----+\n",
      "\n",
      "CPU times: user 1.37 ms, sys: 3.17 ms, total: 4.54 ms\n",
      "Wall time: 2.87 s\n"
     ]
    }
   ],
   "source": [
    "%%time\n",
    "# 차감 연산  \n",
    "sql_minus = \"\"\"\n",
    "SELECT * FROM setop_view WHERE stype!='ST_A' \n",
    "UNION ALL \n",
    "SELECT \n",
    "setop \n",
    ", inv_rate_01, (inv_val_01 - 1) inv_val_01, inv_req_01 \n",
    ", inv_rate_02, (inv_val_02 - 1) inv_val_02, inv_req_02 \n",
    ", inv_rate_03, (inv_val_03 - 1) inv_val_03, inv_req_03\n",
    ", inv_rate_04, (inv_val_04 - 1) inv_val_04, inv_req_04 \n",
    ", inv_rate_05, (inv_val_05 - 1) inv_val_05, inv_req_05 \n",
    ", inv_rate_06, (inv_val_06 - 1) inv_val_06, inv_req_06 \n",
    ", stype \n",
    "FROM setop_view WHERE stype='ST_A' \n",
    "\"\"\"\n",
    "spark.sql(sql_minus).createOrReplaceTempView(\"result\")\n",
    "spark.sql(\"select sum(inv_val_01), stype from result group by stype\").show()"
   ]
  },
  {
   "cell_type": "code",
   "execution_count": 12,
   "id": "e2a41e02-ae41-4e56-b0dc-c4b3b09a743e",
   "metadata": {},
   "outputs": [
    {
     "name": "stdout",
     "output_type": "stream",
     "text": [
      "True\n",
      "+---------------+-----+\n",
      "|sum(inv_val_01)|stype|\n",
      "+---------------+-----+\n",
      "|     1000000000| ST_J|\n",
      "|     1000000000| ST_I|\n",
      "|      999000000| ST_A|\n",
      "|     1000000000| ST_H|\n",
      "|     1000000000| ST_D|\n",
      "|     1000000000| ST_B|\n",
      "|     1000000000| ST_E|\n",
      "|     1000000000| ST_C|\n",
      "|     1000000000| ST_F|\n",
      "|     1000000000| ST_G|\n",
      "+---------------+-----+\n",
      "\n",
      "CPU times: user 5.53 ms, sys: 979 µs, total: 6.51 ms\n",
      "Wall time: 1.81 s\n"
     ]
    }
   ],
   "source": [
    "%%time\n",
    "# 캐시 덮어쓰기  : 20 초 정도  \n",
    "spark.sql(\"select * from result\").createOrReplaceTempView(\"setop_view\")\n",
    "print(spark.catalog.isCached('setop_view'))\n",
    "spark.catalog.cacheTable(\"setop_view\")\n",
    "spark.catalog.isCached('setop_view')\n",
    "spark.sql(\"select sum(inv_val_01), stype from setop_view group by stype\").show()"
   ]
  },
  {
   "cell_type": "code",
   "execution_count": 11,
   "id": "705466a3-04b9-4478-bbfe-c4dffd1ebbd9",
   "metadata": {},
   "outputs": [
    {
     "name": "stdout",
     "output_type": "stream",
     "text": [
      "+---------------+-----+\n",
      "|sum(inv_val_01)|stype|\n",
      "+---------------+-----+\n",
      "|     1000000000| ST_J|\n",
      "|     1000000000| ST_I|\n",
      "|      999000000| ST_A|\n",
      "|     1000000000| ST_H|\n",
      "|     1000000000| ST_D|\n",
      "|     1000000000| ST_B|\n",
      "|     1000000000| ST_E|\n",
      "|     1000000000| ST_C|\n",
      "|     1000000000| ST_F|\n",
      "|     1000000000| ST_G|\n",
      "+---------------+-----+\n",
      "\n",
      "CPU times: user 4.75 ms, sys: 3.82 ms, total: 8.56 ms\n",
      "Wall time: 19.2 s\n"
     ]
    }
   ],
   "source": [
    "%%time\n",
    "# 차감 연산을 반복해 본다..\n"
   ]
  },
  {
   "cell_type": "code",
   "execution_count": null,
   "id": "5cb03f3c-a375-4953-a2cb-4b80634be7df",
   "metadata": {},
   "outputs": [],
   "source": []
  },
  {
   "cell_type": "code",
   "execution_count": null,
   "id": "2fdad05c-e83c-471d-8d3a-b3eeb96d6a4e",
   "metadata": {},
   "outputs": [],
   "source": []
  },
  {
   "cell_type": "code",
   "execution_count": null,
   "id": "4a22b1b9-3fe4-458a-821a-75638c9de701",
   "metadata": {},
   "outputs": [],
   "source": []
  },
  {
   "cell_type": "code",
   "execution_count": null,
   "id": "16f01110-7d9b-435d-b587-fbfa55cef3a3",
   "metadata": {},
   "outputs": [],
   "source": []
  },
  {
   "cell_type": "code",
   "execution_count": 6,
   "id": "2939b701-6b9c-48bc-bc62-e9e182be4f85",
   "metadata": {},
   "outputs": [
    {
     "name": "stdout",
     "output_type": "stream",
     "text": [
      "CPU times: user 20.8 s, sys: 1.62 s, total: 22.4 s\n",
      "Wall time: 1min 1s\n"
     ]
    }
   ],
   "source": [
    "%%time\n",
    "# toPandas : 80 초(2cols),   \n",
    "df = spark.sql(\"select * from setop_view limit 3000000 \").rdd.toDF().toPandas()"
   ]
  },
  {
   "cell_type": "code",
   "execution_count": 7,
   "id": "c87faca3-e136-4f9d-88a1-2b8a16662ac6",
   "metadata": {},
   "outputs": [
    {
     "data": {
      "text/plain": [
       "(3000000, 19)"
      ]
     },
     "execution_count": 7,
     "metadata": {},
     "output_type": "execute_result"
    }
   ],
   "source": [
    "df.shape"
   ]
  },
  {
   "cell_type": "code",
   "execution_count": 8,
   "id": "89dbf89b-9870-49e4-9fc8-ceeacdfb0bb4",
   "metadata": {},
   "outputs": [
    {
     "name": "stdout",
     "output_type": "stream",
     "text": [
      "CPU times: user 867 ms, sys: 75.8 ms, total: 943 ms\n",
      "Wall time: 872 ms\n"
     ]
    }
   ],
   "source": [
    "%%time\n",
    "# parq 파일로 쓰기... 500만 1초  \n",
    "df.to_parquet(\"out-parq.par\")"
   ]
  },
  {
   "cell_type": "code",
   "execution_count": 19,
   "id": "ebd48381-1c8e-4258-8ffb-6cccedc55b2b",
   "metadata": {},
   "outputs": [
    {
     "name": "stdout",
     "output_type": "stream",
     "text": [
      "CPU times: user 834 ms, sys: 47.7 ms, total: 882 ms\n",
      "Wall time: 816 ms\n"
     ]
    }
   ],
   "source": [
    "%%time\n",
    "# pdf 를 파키 테이블로 쓰기 : par-out 경로 만들고 사용해야 함.  \n",
    "# 500만 1초  \n",
    "table = pyarrow.Table.from_pandas(df)\n",
    "pyarrow.parquet.write_to_dataset(table , root_path=\"par-out\")"
   ]
  },
  {
   "cell_type": "code",
   "execution_count": 18,
   "id": "ebbdaffc-5310-4523-9e47-b953ea0f32ab",
   "metadata": {},
   "outputs": [
    {
     "name": "stdout",
     "output_type": "stream",
     "text": [
      "CPU times: user 761 ms, sys: 452 ms, total: 1.21 s\n",
      "Wall time: 1 s\n"
     ]
    },
    {
     "data": {
      "text/plain": [
       "(3000000, 19)"
      ]
     },
     "execution_count": 18,
     "metadata": {},
     "output_type": "execute_result"
    }
   ],
   "source": [
    "%%time\n",
    "# read\n",
    "# 파키 읽기 : 1200만 2.5 초.  \n",
    "df2 = pd.read_parquet(\"par-out\")\n",
    "df2.shape"
   ]
  },
  {
   "cell_type": "code",
   "execution_count": 6,
   "id": "bb43087f-ac7d-42ac-a08b-78646f42e20d",
   "metadata": {},
   "outputs": [
    {
     "data": {
      "text/html": [
       "<div>\n",
       "<style scoped>\n",
       "    .dataframe tbody tr th:only-of-type {\n",
       "        vertical-align: middle;\n",
       "    }\n",
       "\n",
       "    .dataframe tbody tr th {\n",
       "        vertical-align: top;\n",
       "    }\n",
       "\n",
       "    .dataframe thead th {\n",
       "        text-align: right;\n",
       "    }\n",
       "</style>\n",
       "<table border=\"1\" class=\"dataframe\">\n",
       "  <thead>\n",
       "    <tr style=\"text-align: right;\">\n",
       "      <th></th>\n",
       "      <th>setop</th>\n",
       "      <th>inv_rate_01</th>\n",
       "      <th>inv_val_01</th>\n",
       "      <th>inv_req_01</th>\n",
       "      <th>inv_rate_02</th>\n",
       "      <th>inv_val_02</th>\n",
       "      <th>inv_req_02</th>\n",
       "      <th>inv_rate_03</th>\n",
       "      <th>inv_val_03</th>\n",
       "      <th>inv_req_03</th>\n",
       "      <th>inv_rate_04</th>\n",
       "      <th>inv_val_04</th>\n",
       "      <th>inv_req_04</th>\n",
       "      <th>inv_rate_05</th>\n",
       "      <th>inv_val_05</th>\n",
       "      <th>inv_req_05</th>\n",
       "      <th>inv_rate_06</th>\n",
       "      <th>inv_val_06</th>\n",
       "      <th>inv_req_06</th>\n",
       "    </tr>\n",
       "  </thead>\n",
       "  <tbody>\n",
       "    <tr>\n",
       "      <th>0</th>\n",
       "      <td>ST_A_0000000</td>\n",
       "      <td>0.00001</td>\n",
       "      <td>1000</td>\n",
       "      <td>0</td>\n",
       "      <td>0.00001</td>\n",
       "      <td>1000</td>\n",
       "      <td>0</td>\n",
       "      <td>0.00001</td>\n",
       "      <td>1000</td>\n",
       "      <td>0</td>\n",
       "      <td>0.00001</td>\n",
       "      <td>1000</td>\n",
       "      <td>0</td>\n",
       "      <td>0.00001</td>\n",
       "      <td>1000</td>\n",
       "      <td>0</td>\n",
       "      <td>0.00001</td>\n",
       "      <td>1000</td>\n",
       "      <td>0</td>\n",
       "    </tr>\n",
       "    <tr>\n",
       "      <th>1</th>\n",
       "      <td>ST_A_0000001</td>\n",
       "      <td>0.00001</td>\n",
       "      <td>1000</td>\n",
       "      <td>0</td>\n",
       "      <td>0.00001</td>\n",
       "      <td>1000</td>\n",
       "      <td>0</td>\n",
       "      <td>0.00001</td>\n",
       "      <td>1000</td>\n",
       "      <td>0</td>\n",
       "      <td>0.00001</td>\n",
       "      <td>1000</td>\n",
       "      <td>0</td>\n",
       "      <td>0.00001</td>\n",
       "      <td>1000</td>\n",
       "      <td>0</td>\n",
       "      <td>0.00001</td>\n",
       "      <td>1000</td>\n",
       "      <td>0</td>\n",
       "    </tr>\n",
       "    <tr>\n",
       "      <th>2</th>\n",
       "      <td>ST_A_0000002</td>\n",
       "      <td>0.00001</td>\n",
       "      <td>1000</td>\n",
       "      <td>0</td>\n",
       "      <td>0.00001</td>\n",
       "      <td>1000</td>\n",
       "      <td>0</td>\n",
       "      <td>0.00001</td>\n",
       "      <td>1000</td>\n",
       "      <td>0</td>\n",
       "      <td>0.00001</td>\n",
       "      <td>1000</td>\n",
       "      <td>0</td>\n",
       "      <td>0.00001</td>\n",
       "      <td>1000</td>\n",
       "      <td>0</td>\n",
       "      <td>0.00001</td>\n",
       "      <td>1000</td>\n",
       "      <td>0</td>\n",
       "    </tr>\n",
       "    <tr>\n",
       "      <th>3</th>\n",
       "      <td>ST_A_0000003</td>\n",
       "      <td>0.00001</td>\n",
       "      <td>1000</td>\n",
       "      <td>0</td>\n",
       "      <td>0.00001</td>\n",
       "      <td>1000</td>\n",
       "      <td>0</td>\n",
       "      <td>0.00001</td>\n",
       "      <td>1000</td>\n",
       "      <td>0</td>\n",
       "      <td>0.00001</td>\n",
       "      <td>1000</td>\n",
       "      <td>0</td>\n",
       "      <td>0.00001</td>\n",
       "      <td>1000</td>\n",
       "      <td>0</td>\n",
       "      <td>0.00001</td>\n",
       "      <td>1000</td>\n",
       "      <td>0</td>\n",
       "    </tr>\n",
       "    <tr>\n",
       "      <th>4</th>\n",
       "      <td>ST_A_0000004</td>\n",
       "      <td>0.00001</td>\n",
       "      <td>1000</td>\n",
       "      <td>0</td>\n",
       "      <td>0.00001</td>\n",
       "      <td>1000</td>\n",
       "      <td>0</td>\n",
       "      <td>0.00001</td>\n",
       "      <td>1000</td>\n",
       "      <td>0</td>\n",
       "      <td>0.00001</td>\n",
       "      <td>1000</td>\n",
       "      <td>0</td>\n",
       "      <td>0.00001</td>\n",
       "      <td>1000</td>\n",
       "      <td>0</td>\n",
       "      <td>0.00001</td>\n",
       "      <td>1000</td>\n",
       "      <td>0</td>\n",
       "    </tr>\n",
       "  </tbody>\n",
       "</table>\n",
       "</div>"
      ],
      "text/plain": [
       "          setop  inv_rate_01  inv_val_01  inv_req_01  inv_rate_02  inv_val_02  \\\n",
       "0  ST_A_0000000      0.00001        1000           0      0.00001        1000   \n",
       "1  ST_A_0000001      0.00001        1000           0      0.00001        1000   \n",
       "2  ST_A_0000002      0.00001        1000           0      0.00001        1000   \n",
       "3  ST_A_0000003      0.00001        1000           0      0.00001        1000   \n",
       "4  ST_A_0000004      0.00001        1000           0      0.00001        1000   \n",
       "\n",
       "   inv_req_02  inv_rate_03  inv_val_03  inv_req_03  inv_rate_04  inv_val_04  \\\n",
       "0           0      0.00001        1000           0      0.00001        1000   \n",
       "1           0      0.00001        1000           0      0.00001        1000   \n",
       "2           0      0.00001        1000           0      0.00001        1000   \n",
       "3           0      0.00001        1000           0      0.00001        1000   \n",
       "4           0      0.00001        1000           0      0.00001        1000   \n",
       "\n",
       "   inv_req_04  inv_rate_05  inv_val_05  inv_req_05  inv_rate_06  inv_val_06  \\\n",
       "0           0      0.00001        1000           0      0.00001        1000   \n",
       "1           0      0.00001        1000           0      0.00001        1000   \n",
       "2           0      0.00001        1000           0      0.00001        1000   \n",
       "3           0      0.00001        1000           0      0.00001        1000   \n",
       "4           0      0.00001        1000           0      0.00001        1000   \n",
       "\n",
       "   inv_req_06  \n",
       "0           0  \n",
       "1           0  \n",
       "2           0  \n",
       "3           0  \n",
       "4           0  "
      ]
     },
     "execution_count": 6,
     "metadata": {},
     "output_type": "execute_result"
    }
   ],
   "source": [
    "df2.head()"
   ]
  },
  {
   "cell_type": "code",
   "execution_count": 19,
   "id": "13d500fd-cd06-433a-91f9-ec9affb40260",
   "metadata": {},
   "outputs": [
    {
     "name": "stdout",
     "output_type": "stream",
     "text": [
      "+------------+--------------------+----------+----------+--------------------+----------+----------+--------------------+----------+----------+--------------------+----------+----------+--------------------+----------+----------+--------------------+----------+----------+\n",
      "|       setop|         inv_rate_01|inv_val_01|inv_req_01|         inv_rate_02|inv_val_02|inv_req_02|         inv_rate_03|inv_val_03|inv_req_03|         inv_rate_04|inv_val_04|inv_req_04|         inv_rate_05|inv_val_05|inv_req_05|         inv_rate_06|inv_val_06|inv_req_06|\n",
      "+------------+--------------------+----------+----------+--------------------+----------+----------+--------------------+----------+----------+--------------------+----------+----------+--------------------+----------+----------+--------------------+----------+----------+\n",
      "|ST_A_0000000|9.999999747378752E-6|      1000|         0|9.999999747378752E-6|      1000|         0|9.999999747378752E-6|      1000|         0|9.999999747378752E-6|      1000|         0|9.999999747378752E-6|      1000|         0|9.999999747378752E-6|      1000|         0|\n",
      "|ST_A_0000001|9.999999747378752E-6|      1000|         0|9.999999747378752E-6|      1000|         0|9.999999747378752E-6|      1000|         0|9.999999747378752E-6|      1000|         0|9.999999747378752E-6|      1000|         0|9.999999747378752E-6|      1000|         0|\n",
      "|ST_A_0000002|9.999999747378752E-6|      1000|         0|9.999999747378752E-6|      1000|         0|9.999999747378752E-6|      1000|         0|9.999999747378752E-6|      1000|         0|9.999999747378752E-6|      1000|         0|9.999999747378752E-6|      1000|         0|\n",
      "|ST_A_0000003|9.999999747378752E-6|      1000|         0|9.999999747378752E-6|      1000|         0|9.999999747378752E-6|      1000|         0|9.999999747378752E-6|      1000|         0|9.999999747378752E-6|      1000|         0|9.999999747378752E-6|      1000|         0|\n",
      "|ST_A_0000004|9.999999747378752E-6|      1000|         0|9.999999747378752E-6|      1000|         0|9.999999747378752E-6|      1000|         0|9.999999747378752E-6|      1000|         0|9.999999747378752E-6|      1000|         0|9.999999747378752E-6|      1000|         0|\n",
      "+------------+--------------------+----------+----------+--------------------+----------+----------+--------------------+----------+----------+--------------------+----------+----------+--------------------+----------+----------+--------------------+----------+----------+\n",
      "only showing top 5 rows\n",
      "\n",
      "CPU times: user 329 ms, sys: 390 ms, total: 719 ms\n",
      "Wall time: 4.05 s\n"
     ]
    }
   ],
   "source": [
    "%%time\n",
    "# rpc.maxsize 늘려야 직렬화 가능. 300만 호출 시 : 4.5 초.  \n",
    "# global var로 사용해도...  \n",
    "sdf = spark.createDataFrame(df2)\n",
    "sdf.show(5)"
   ]
  },
  {
   "cell_type": "code",
   "execution_count": null,
   "id": "3d57928d-057f-48e1-8dae-544419fc642b",
   "metadata": {},
   "outputs": [],
   "source": []
  },
  {
   "cell_type": "code",
   "execution_count": null,
   "id": "2407e72f-981d-4101-9198-809742d1bcec",
   "metadata": {},
   "outputs": [],
   "source": []
  },
  {
   "cell_type": "code",
   "execution_count": null,
   "id": "ca341ddc-5dfb-4c99-b611-029c43a0f502",
   "metadata": {},
   "outputs": [],
   "source": []
  },
  {
   "cell_type": "code",
   "execution_count": null,
   "id": "2368d766-f664-49c3-ace7-27c845738d53",
   "metadata": {},
   "outputs": [],
   "source": []
  },
  {
   "cell_type": "code",
   "execution_count": 13,
   "id": "e7a2e587-ffee-496e-a72e-a404db85eaa0",
   "metadata": {},
   "outputs": [],
   "source": [
    "spark.stop()"
   ]
  }
 ],
 "metadata": {
  "kernelspec": {
   "display_name": "Python 3",
   "language": "python",
   "name": "python3"
  },
  "language_info": {
   "codemirror_mode": {
    "name": "ipython",
    "version": 3
   },
   "file_extension": ".py",
   "mimetype": "text/x-python",
   "name": "python",
   "nbconvert_exporter": "python",
   "pygments_lexer": "ipython3",
   "version": "3.6.9"
  }
 },
 "nbformat": 4,
 "nbformat_minor": 5
}
