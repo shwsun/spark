{
 "cells": [
  {
   "cell_type": "markdown",
   "id": "01985d71-d0ba-46fc-ae43-2b361adc5308",
   "metadata": {},
   "source": [
    "# 월 집계 데이터 적재\n",
    "생성한 채널 집계 데이터를 적재 \n",
    "1 개월 1000만 세톱 데이터에 대해 차감 연산 실행한 결과  \n",
    " - 전체 : 49 초  \n",
    " - 최초 : 28 초  \n",
    " - 재실행 : 11 초  \n",
    "> 추가로 컬럼을 6배 늘려 6개월 데이터에 대해 차감한 경우 테스트 해 본다.  "
   ]
  },
  {
   "cell_type": "code",
   "execution_count": 1,
   "id": "0657f239-2675-409d-820d-2ab11bb449d4",
   "metadata": {},
   "outputs": [],
   "source": [
    "# 필요 라이브러리 임포트  \n",
    "import socket\n",
    "import sys\n",
    "import os\n",
    "from pyspark import SparkContext, SparkConf\n",
    "from pyspark.streaming import StreamingContext\n",
    "from pyspark.sql import Row, SparkSession\n",
    "from os.path import abspath\n",
    "import findspark\n",
    "import time "
   ]
  },
  {
   "cell_type": "code",
   "execution_count": 2,
   "id": "8c16fd2f-27cc-4493-83b7-53d4762537f0",
   "metadata": {},
   "outputs": [],
   "source": [
    "# 환경변수 정의  \n",
    "scale = 1000 # 1000 만 건 수준\n",
    "PRJ_ROOT = '/user/root'\n",
    "APP_NAME = f'spark-02-load-inven'\n",
    "DB_NAME = 'inven'"
   ]
  },
  {
   "cell_type": "code",
   "execution_count": 3,
   "id": "4d6d1dd4-e8d4-4a9b-a8d7-3c132f54f7aa",
   "metadata": {},
   "outputs": [],
   "source": [
    "# 스파크 생성 \n",
    "def spark_creation():\n",
    "    spark = SparkSession.builder.master('yarn').appName(APP_NAME)\\\n",
    "    .config('spark.driver.cores', '2').config('spark.driver.memory', '4g')\\\n",
    "    .config('spark.num.executors', '4')\\\n",
    "    .config('spark.executor.cores', '2').config('spark.executor.memory', '2g').getOrCreate()\n",
    "    sc = spark.sparkContext\n",
    "    sc\n",
    "    return spark"
   ]
  },
  {
   "cell_type": "code",
   "execution_count": 4,
   "id": "1fd0b5ee-33b2-4c03-8fde-16c4a011adbc",
   "metadata": {},
   "outputs": [
    {
     "name": "stderr",
     "output_type": "stream",
     "text": [
      "/usr/local/lib/python3.6/dist-packages/pyspark/context.py:238: FutureWarning: Python 3.6 support is deprecated in Spark 3.2.\n",
      "  FutureWarning\n"
     ]
    }
   ],
   "source": [
    "spark = spark_creation()"
   ]
  },
  {
   "cell_type": "code",
   "execution_count": 5,
   "id": "79906233-1e70-4d46-8d28-f97001153a2f",
   "metadata": {},
   "outputs": [],
   "source": [
    "# 데이터의 파일 포맷 및 파일명  \n",
    "tbl_setop_name = f'inven/table-set-1000'\n",
    "file_format = 'parquet'\n",
    "# 샘플 데이터 형식 정의. 읽기/쓰기 편의 제공. \n",
    "def define_schema():\n",
    "    from pyspark.sql.types import StructType, StructField, StringType, LongType, FloatType\n",
    "    columns = [\n",
    "        StructField(\"setop\", StringType())\n",
    "        , StructField(\"inv_rate\", FloatType())\n",
    "        , StructField(\"inv_val\", LongType())\n",
    "    ]\n",
    "    sample_schema = StructType(columns)\n",
    "    return sample_schema"
   ]
  },
  {
   "cell_type": "code",
   "execution_count": 6,
   "id": "d6d481cb-6334-4caa-bc06-48d649f3ce6b",
   "metadata": {},
   "outputs": [],
   "source": [
    "# %%time \n",
    "# # 기록한 파일 다시 읽어 들이기 \n",
    "# # 저장 결과 확인하기 \n",
    "# lines = spark.read.format(file_format).option('path', tbl_setop_name).load()\n",
    "# data_count = lines.count()\n",
    "# print(f'DATA Count : {data_count:,}')\n",
    "# lines.show(5)"
   ]
  },
  {
   "cell_type": "code",
   "execution_count": 7,
   "id": "1c141fbe-b229-4d7e-b768-4691ae53c77f",
   "metadata": {},
   "outputs": [],
   "source": [
    "# %%time \n",
    "# # sparkSQL로 전체 데이터 읽어서 카운트  \n",
    "# spark.read.format(file_format).load(tbl_setop_name).createOrReplaceTempView('setop_view')\n",
    "# spark.sql(\"select count(1) from setop_view\").show()"
   ]
  },
  {
   "cell_type": "code",
   "execution_count": 7,
   "id": "fe1b1723-4f5d-4232-9e86-01ee9f639dde",
   "metadata": {},
   "outputs": [
    {
     "name": "stdout",
     "output_type": "stream",
     "text": [
      "+--------+-----------+\n",
      "|     cnt|   sum(req)|\n",
      "+--------+-----------+\n",
      "|10000000|10000000000|\n",
      "+--------+-----------+\n",
      "\n",
      "+--------+----------+\n",
      "|     cnt|  sum(req)|\n",
      "+--------+----------+\n",
      "|10000000|8000000000|\n",
      "+--------+----------+\n",
      "\n",
      "CPU times: user 13.7 ms, sys: 814 µs, total: 14.5 ms\n",
      "Wall time: 10.6 s\n"
     ]
    }
   ],
   "source": [
    "%%time \n",
    "# sparkSQL로 전체 데이터 읽어서 카운트  \n",
    "# 건 수 차이 없는 방식. 최초, 재실행 여부 차이.  \n",
    "# 최초 : 15 초 , 재실행 : 10 초   \n",
    "spark.read.format(file_format).load(tbl_setop_name).createOrReplaceTempView('setop_view')\n",
    "# 원본 데이터에 청약량에 1000 을 강제 할당.  \n",
    "spark.sql(\"select *, 1000 req from setop_view\").createOrReplaceTempView('setop_org')\n",
    "# 특정 데이터와 차감할 건수 정보 강제 생성   \n",
    "# 2백만 \n",
    "spark.sql(\"select setop, -1000 req from setop_view where setop like 'ST_J%' or setop like 'ST_A%'\").createOrReplaceTempView('setop_minus')\n",
    "# 전체 \n",
    "#spark.sql(\"select setop, -1 req from setop_view\").createOrReplaceTempView('setop_minus')\n",
    "# 차감 요청 정보를 원본에 반영  \n",
    "spark.sql(\"select setop, sum(req) req from (select setop, req from setop_org UNION ALL select setop, req from setop_minus) as A group by setop\")\\\n",
    "    .createOrReplaceTempView('result')\n",
    "\n",
    "# 계산 결과와 원본 비교  \n",
    "spark.sql(\"select count(1) cnt, sum(req) from setop_org\").show()\n",
    "spark.sql(\"select count(1) cnt, sum(req) from result\").show()"
   ]
  },
  {
   "cell_type": "code",
   "execution_count": 9,
   "id": "8388b65d-c6a4-42b9-aef7-42832525b586",
   "metadata": {},
   "outputs": [],
   "source": [
    "spark.stop()"
   ]
  }
 ],
 "metadata": {
  "kernelspec": {
   "display_name": "Python 3",
   "language": "python",
   "name": "python3"
  },
  "language_info": {
   "codemirror_mode": {
    "name": "ipython",
    "version": 3
   },
   "file_extension": ".py",
   "mimetype": "text/x-python",
   "name": "python",
   "nbconvert_exporter": "python",
   "pygments_lexer": "ipython3",
   "version": "3.6.9"
  }
 },
 "nbformat": 4,
 "nbformat_minor": 5
}
