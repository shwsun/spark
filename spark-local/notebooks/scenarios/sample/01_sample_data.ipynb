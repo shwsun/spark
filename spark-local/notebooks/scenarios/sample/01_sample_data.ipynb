{
 "cells": [
  {
   "cell_type": "markdown",
   "id": "01985d71-d0ba-46fc-ae43-2b361adc5308",
   "metadata": {},
   "source": [
    "# 샘플 데이터 생성  \n",
    "연습에 사용할 샘플 데이터를 생성합니다.  \n",
    "- 채널/시간/주중말 인벤 : table-chn, 200 * 24 * 2.  \n",
    "- 셋탑/지역 인벤 : table-set, 1,000 만.  \n",
    "- 셋탑/타겟 매핑 정보 : table-map  \n",
    "- 타겟 인벤 : table-seg, 200.    \n",
    "  \n",
    "inventory db 에 생성.  \n",
    "연산 전에 hive 에서 생성해서 넘겨주는 데이터  \n",
    "> 6개월 데이터로 컬럼 확장해 본다 "
   ]
  },
  {
   "cell_type": "code",
   "execution_count": 1,
   "id": "0657f239-2675-409d-820d-2ab11bb449d4",
   "metadata": {},
   "outputs": [],
   "source": [
    "# 필요 라이브러리 임포트  \n",
    "import socket\n",
    "import sys\n",
    "import os\n",
    "from pyspark import SparkContext, SparkConf\n",
    "from pyspark.streaming import StreamingContext\n",
    "from pyspark.sql import Row, SparkSession\n",
    "from os.path import abspath\n",
    "import findspark\n",
    "import time "
   ]
  },
  {
   "cell_type": "code",
   "execution_count": 2,
   "id": "8c16fd2f-27cc-4493-83b7-53d4762537f0",
   "metadata": {},
   "outputs": [],
   "source": [
    "# 환경변수 정의  \n",
    "scale = 1000 # 1000 만 건 수준\n",
    "PRJ_ROOT = '/user/root'\n",
    "APP_NAME = f'spark-01-sample-creation-{scale}'\n",
    "DB_NAME = 'inven'"
   ]
  },
  {
   "cell_type": "code",
   "execution_count": 3,
   "id": "4d6d1dd4-e8d4-4a9b-a8d7-3c132f54f7aa",
   "metadata": {},
   "outputs": [],
   "source": [
    "# 스파크 생성 \n",
    "def spark_creation():\n",
    "    spark = SparkSession.builder.master('yarn').appName(APP_NAME)\\\n",
    "    .config('spark.driver.cores', '2').config('spark.driver.memory', '4g')\\\n",
    "    .config('spark.num.executors', '3')\\\n",
    "    .config('spark.executor.cores', '2').config('spark.executor.memory', '2g').getOrCreate()\n",
    "    sc = spark.sparkContext\n",
    "    sc\n",
    "    return spark"
   ]
  },
  {
   "cell_type": "code",
   "execution_count": 4,
   "id": "1fd0b5ee-33b2-4c03-8fde-16c4a011adbc",
   "metadata": {},
   "outputs": [
    {
     "name": "stderr",
     "output_type": "stream",
     "text": [
      "/usr/local/lib/python3.6/dist-packages/pyspark/context.py:238: FutureWarning: Python 3.6 support is deprecated in Spark 3.2.\n",
      "  FutureWarning\n"
     ]
    }
   ],
   "source": [
    "spark = spark_creation()"
   ]
  },
  {
   "cell_type": "code",
   "execution_count": null,
   "id": "fc8e36e2-2324-45ed-b789-7ece0a864f1c",
   "metadata": {},
   "outputs": [],
   "source": []
  },
  {
   "cell_type": "code",
   "execution_count": 5,
   "id": "79906233-1e70-4d46-8d28-f97001153a2f",
   "metadata": {},
   "outputs": [],
   "source": [
    "# 샘플 데이터 생성 \n",
    "def create_setops():\n",
    "    setop_count = scale * 10000\n",
    "    inv_rate = 1.0 \n",
    "    inv_val = 1000\n",
    "    setop_name = ['ST_A', 'ST_B', 'ST_C', 'ST_D', 'ST_E', 'ST_F', 'ST_G', 'ST_H', 'ST_I', 'ST_J']\n",
    "    setops = []\n",
    "    for s in setop_name:\n",
    "        for i in range(0, int(setop_count/len(setop_name))):\n",
    "            setops.append([f'{s}_{i:07d}', inv_rate, inv_val])\n",
    "            \n",
    "    print(setops[-10:])\n",
    "    return setops\n",
    "# 샘플 데이터 형식 정의. 읽기/쓰기 편의 제공. \n",
    "def define_schema():\n",
    "    from pyspark.sql.types import StructType, StructField, StringType, LongType, FloatType\n",
    "    columns = [\n",
    "        StructField(\"setop\", StringType())\n",
    "        , StructField(\"inv_rate\", FloatType())\n",
    "        , StructField(\"inv_val\", LongType())\n",
    "    ]\n",
    "    sample_schema = StructType(columns)\n",
    "    return sample_schema"
   ]
  },
  {
   "cell_type": "code",
   "execution_count": null,
   "id": "52462f5c-f8c2-400d-92e1-e1f6334a454a",
   "metadata": {},
   "outputs": [],
   "source": []
  },
  {
   "cell_type": "code",
   "execution_count": 6,
   "id": "891ebbdd-0aca-4735-8ec7-749d1db28be9",
   "metadata": {},
   "outputs": [
    {
     "name": "stdout",
     "output_type": "stream",
     "text": [
      "[['ST_J_0999990', 1.0, 1000], ['ST_J_0999991', 1.0, 1000], ['ST_J_0999992', 1.0, 1000], ['ST_J_0999993', 1.0, 1000], ['ST_J_0999994', 1.0, 1000], ['ST_J_0999995', 1.0, 1000], ['ST_J_0999996', 1.0, 1000], ['ST_J_0999997', 1.0, 1000], ['ST_J_0999998', 1.0, 1000], ['ST_J_0999999', 1.0, 1000]]\n",
      "CPU times: user 18.2 s, sys: 1.4 s, total: 19.6 s\n",
      "Wall time: 22.2 s\n"
     ]
    }
   ],
   "source": [
    "%%time \n",
    "# 샘플 데이터 생성 및 확인 \n",
    "sample_data = create_setops()\n",
    "sample_schema = define_schema()\n",
    "rdd = spark.sparkContext.parallelize(sample_data)\n",
    "df = spark.createDataFrame(rdd, sample_schema)\n",
    "#df.show(10)"
   ]
  },
  {
   "cell_type": "code",
   "execution_count": 7,
   "id": "434b6356-e384-4ad1-b474-d560f78c25b8",
   "metadata": {},
   "outputs": [
    {
     "name": "stdout",
     "output_type": "stream",
     "text": [
      "CPU times: user 7.87 ms, sys: 4.65 ms, total: 12.5 ms\n",
      "Wall time: 32.1 s\n"
     ]
    }
   ],
   "source": [
    "%%time \n",
    "# HDFS 에 /user/root/inven/setop 폴더와 파일이 생성 됨.  \n",
    "tbl_setop_name = f'inven/table-set-{scale}'\n",
    "file_format = 'parquet'\n",
    "df.write.save(path=tbl_setop_name, format=file_format, mode='append', sep=',')"
   ]
  },
  {
   "cell_type": "code",
   "execution_count": null,
   "id": "7f1e4883-682a-462d-abc2-8d41f0522578",
   "metadata": {},
   "outputs": [],
   "source": []
  },
  {
   "cell_type": "code",
   "execution_count": null,
   "id": "5459f67f-7cf1-493d-9ab6-b63cc83d3e22",
   "metadata": {},
   "outputs": [],
   "source": []
  },
  {
   "cell_type": "code",
   "execution_count": 8,
   "id": "d6d481cb-6334-4caa-bc06-48d649f3ce6b",
   "metadata": {},
   "outputs": [
    {
     "name": "stdout",
     "output_type": "stream",
     "text": [
      "DATA Count : 10,000,000\n",
      "+------------+--------+-------+\n",
      "|       setop|inv_rate|inv_val|\n",
      "+------------+--------+-------+\n",
      "|ST_C_0499584|     1.0|   1000|\n",
      "|ST_C_0499585|     1.0|   1000|\n",
      "|ST_C_0499586|     1.0|   1000|\n",
      "|ST_C_0499587|     1.0|   1000|\n",
      "|ST_C_0499588|     1.0|   1000|\n",
      "+------------+--------+-------+\n",
      "only showing top 5 rows\n",
      "\n",
      "CPU times: user 3.3 ms, sys: 3.63 ms, total: 6.93 ms\n",
      "Wall time: 2.6 s\n"
     ]
    }
   ],
   "source": [
    "%%time \n",
    "# 기록한 파일 다시 읽어 들이기 \n",
    "# 저장 결과 확인하기 \n",
    "lines = spark.read.format(file_format).option('path', tbl_setop_name).load()\n",
    "data_count = lines.count()\n",
    "print(f'DATA Count : {data_count:,}')\n",
    "lines.show(5)"
   ]
  },
  {
   "cell_type": "code",
   "execution_count": 10,
   "id": "8388b65d-c6a4-42b9-aef7-42832525b586",
   "metadata": {},
   "outputs": [],
   "source": [
    "spark.stop()"
   ]
  }
 ],
 "metadata": {
  "kernelspec": {
   "display_name": "Python 3",
   "language": "python",
   "name": "python3"
  },
  "language_info": {
   "codemirror_mode": {
    "name": "ipython",
    "version": 3
   },
   "file_extension": ".py",
   "mimetype": "text/x-python",
   "name": "python",
   "nbconvert_exporter": "python",
   "pygments_lexer": "ipython3",
   "version": "3.6.9"
  }
 },
 "nbformat": 4,
 "nbformat_minor": 5
}
