{
 "cells": [
  {
   "cell_type": "markdown",
   "id": "ea0938f1-169b-4a95-930a-ae0010318d8a",
   "metadata": {},
   "source": [
    "# Stream test  \n",
    "hdfs 에 구매 요청 정보가 들어오는 경우, stream 방식으로 요청을 수신하고 처리  "
   ]
  },
  {
   "cell_type": "code",
   "execution_count": 1,
   "id": "73efbbd2-73ff-4cbf-a6db-ad2793fe4764",
   "metadata": {},
   "outputs": [],
   "source": [
    "# 필요 라이브러리 임포트  \n",
    "import socket\n",
    "import sys\n",
    "import os\n",
    "from pyspark import SparkContext, SparkConf\n",
    "from pyspark.streaming import StreamingContext\n",
    "from pyspark.sql import Row, SparkSession\n",
    "from os.path import abspath\n",
    "import findspark\n",
    "import time \n",
    "\n",
    "# 환경변수 정의  \n",
    "scale = 1000 # 1000 만 건 수준\n",
    "APP_NAME = 'stream-kafka'\n",
    "\n",
    "\n",
    "# 스파크 생성 \n",
    "def spark_creation_yarn():\n",
    "    spark = SparkSession.builder.master('yarn').appName(APP_NAME)\\\n",
    "    .config('spark.driver.cores', '2').config('spark.driver.memory', '4g')\\\n",
    "    .config('spark.num.executors', '2')\\\n",
    "    .config('spark.executor.cores', '2').config('spark.executor.memory', '4g')\\\n",
    "    .config('spark.jars', '/hive-bin/lib/mysql-connector-java-5.1.49-bin.jar')\\\n",
    "    .config('spark.driver.extraClassPath', '/hive-bin/lib/mysql-connector-java-5.1.49-bin.jar')\\\n",
    "    .getOrCreate()\n",
    "    sc = spark.sparkContext\n",
    "    return spark\n",
    "\n",
    "def spark_creation_local():\n",
    "    kafka_jar_root = \"/spark-git/spark/spark-local/notebooks/scenarios/kafka/jar\"\n",
    "    kafka_spark_jar_path = f\"{kafka_jar_root}/commons-pool2-2.11.0.jar,{kafka_jar_root}/spark-token-provider-kafka-0-10_2.12-3.2.1.jar,{kafka_jar_root}/spark-streaming-kafka-0-10_2.12-3.2.1.jar,{kafka_jar_root}/spark-sql-kafka-0-10_2.12-3.2.1.jar,/{kafka_jar_root}/kafka-clients-3.2.0.jar\"\n",
    "    spark = SparkSession.builder.master('local[*]').appName(APP_NAME)\\\n",
    "    .config(\"spark.jars\", kafka_spark_jar_path)\\\n",
    "    .config(\"spark.driver.extraClassPath\", f\"{kafka_jar_root}/*.jar\")\\\n",
    "    .config(\"spark.executor.extraClassPath\", f\"{kafka_jar_root}/*.jar\")\\\n",
    "    .getOrCreate()\n",
    "# .config(\"spark.jars.packages\", \"org.apache.spark:spark-sql-kafka-0-10_2.12-3.2.1\")\\\n",
    "    #    .config(\"spark.driver.extraClassPath\", kafka_spark_jar_path)\\\n",
    "    #     .config(\"spark.jars.packages\", pydeequ.deequ_maven_coord) \\\n",
    "    # .config(\"spark.jars.excludes\", pydeequ.f2j_maven_coord) \\\n",
    "    sc = spark.sparkContext\n",
    "    # spark.conf.set(\"spark.driver.extraClassPath\", kafka_spark_jar_path)\n",
    "    return spark\n",
    "def spark_creation():\n",
    "    return spark_creation_local()\n",
    "\n",
    "def display_output(outTarget, sqlString, interval = 1):\n",
    "    from IPython.display import display, clear_output\n",
    "    from pyspark.sql.streaming import StreamingQuery \n",
    "    import time \n",
    "    if isinstance(outTarget, StreamingQuery):\n",
    "        while True:\n",
    "            clear_output(wait=False)\n",
    "            print(f\"Query : {sqlString}\")\n",
    "            # display(spark.sql(sqlString).show())\n",
    "            print(f\"outTarget : {outTarget}\")\n",
    "            # print(f\"temp : {(temp[0])}\")\n",
    "            #display(outTarget.select(\"type\").show())\n",
    "            time.sleep(interval)\n",
    "    else:\n",
    "        print(\"Not instance......\")\n",
    "        spark.sql(sqlString).show()\n",
    "        \n",
    "def define_schema():\n",
    "    from pyspark.sql.types import StructType, StructField, StringType, LongType\n",
    "    columns = [\n",
    "        StructField(\"type\", StringType())\n",
    "        , StructField(\"qty\", LongType())\n",
    "    ]\n",
    "    inven_schema = StructType(columns)\n",
    "    return inven_schema"
   ]
  },
  {
   "cell_type": "code",
   "execution_count": 2,
   "id": "62b7de39-bd37-455b-85c7-e694410364d5",
   "metadata": {},
   "outputs": [
    {
     "name": "stderr",
     "output_type": "stream",
     "text": [
      "/usr/local/lib/python3.6/dist-packages/pyspark/context.py:238: FutureWarning: Python 3.6 support is deprecated in Spark 3.2.\n",
      "  FutureWarning\n"
     ]
    },
    {
     "name": "stdout",
     "output_type": "stream",
     "text": [
      "CPU times: user 61 ms, sys: 17.9 ms, total: 78.8 ms\n",
      "Wall time: 15.3 s\n"
     ]
    },
    {
     "data": {
      "text/html": [
       "\n",
       "            <div>\n",
       "                <p><b>SparkSession - in-memory</b></p>\n",
       "                \n",
       "        <div>\n",
       "            <p><b>SparkContext</b></p>\n",
       "\n",
       "            <p><a href=\"http://172.28.44.250:4040\">Spark UI</a></p>\n",
       "\n",
       "            <dl>\n",
       "              <dt>Version</dt>\n",
       "                <dd><code>v3.2.1</code></dd>\n",
       "              <dt>Master</dt>\n",
       "                <dd><code>local[*]</code></dd>\n",
       "              <dt>AppName</dt>\n",
       "                <dd><code>stream-kafka</code></dd>\n",
       "            </dl>\n",
       "        </div>\n",
       "        \n",
       "            </div>\n",
       "        "
      ],
      "text/plain": [
       "<pyspark.sql.session.SparkSession at 0x7fd4802a5320>"
      ]
     },
     "execution_count": 2,
     "metadata": {},
     "output_type": "execute_result"
    }
   ],
   "source": [
    "%%time\n",
    "spark = spark_creation()\n",
    "\n",
    "spark"
   ]
  },
  {
   "cell_type": "code",
   "execution_count": 6,
   "id": "42990cd8-a0d7-4df8-85e5-8b3638dc1a15",
   "metadata": {},
   "outputs": [],
   "source": []
  },
  {
   "cell_type": "code",
   "execution_count": 3,
   "id": "a82136ad-246a-4798-a7f3-ba90e4852cba",
   "metadata": {},
   "outputs": [],
   "source": [
    "# Subscribe to 1 topic\n",
    "df = spark \\\n",
    "  .readStream \\\n",
    "  .format(\"kafka\") \\\n",
    "  .option(\"kafka.bootstrap.servers\", \"localhost:9092\") \\\n",
    "  .option(\"subscribe\", \"quickstart-events\") \\\n",
    "  .load()\n",
    "\n",
    "# df.selectExpr(\"CAST(key AS STRING)\", \"CAST(value AS STRING)\")"
   ]
  },
  {
   "cell_type": "code",
   "execution_count": 14,
   "id": "6112b44b-b264-47f5-bfee-afd5368480f6",
   "metadata": {},
   "outputs": [],
   "source": []
  },
  {
   "cell_type": "code",
   "execution_count": null,
   "id": "e718a592-37f5-469b-b8df-29dac9d4156d",
   "metadata": {},
   "outputs": [],
   "source": [
    "# df.createOrReplaceTempView(\"mytable\")\n",
    "query_name = \"lines_12\"\n",
    "# lines.createOrReplaceTempView(query_name)\n",
    "sql = f\"select * from mytable \"\n"
   ]
  },
  {
   "cell_type": "code",
   "execution_count": 5,
   "id": "e6a2dd1f-b468-49b4-9e53-0c09eb05c821",
   "metadata": {},
   "outputs": [],
   "source": [
    "# activityQuery = df.writeStream.queryName(query_name).format(\"memory\").outputMode(\"append\").start()\n",
    "# activityQuery.awaitTermination() \n",
    "# spark.streams.active\n",
    "\n",
    "# from time import sleep\n",
    "# for x in range(3):\n",
    "#     spark.sql(sql).show(3)\n",
    "#     sleep(2)"
   ]
  },
  {
   "cell_type": "code",
   "execution_count": 4,
   "id": "09ed9c13-b08c-4352-bec5-1f6510563d19",
   "metadata": {},
   "outputs": [],
   "source": [
    "outQ = df \\\n",
    "    .withWatermark(\"timestamp\", \"5 seconds\")\\\n",
    "    .writeStream \\\n",
    "    .outputMode(\"append\") \\\n",
    "    .format(\"memory\") \\\n",
    "    .queryName(\"mytable\") \\\n",
    "    .start()\n",
    "\n",
    "# outQ.awaitTermination()\n"
   ]
  },
  {
   "cell_type": "code",
   "execution_count": 8,
   "id": "7c27048a-ed76-4ac3-93e2-faf1580b27bd",
   "metadata": {},
   "outputs": [
    {
     "data": {
      "text/plain": [
       "{'message': 'Getting offsets from KafkaV2[Subscribe[quickstart-events]]',\n",
       " 'isDataAvailable': False,\n",
       " 'isTriggerActive': True}"
      ]
     },
     "metadata": {},
     "output_type": "display_data"
    },
    {
     "data": {
      "text/plain": [
       "{'id': '4cd1f631-4f6c-4b22-bde7-e7d17a20b258',\n",
       " 'runId': '43ea08d1-c63b-4190-8626-80c0cdb56647',\n",
       " 'name': 'mytable',\n",
       " 'timestamp': '2022-06-22T02:29:46.688Z',\n",
       " 'batchId': 12,\n",
       " 'numInputRows': 0,\n",
       " 'inputRowsPerSecond': 0.0,\n",
       " 'processedRowsPerSecond': 0.0,\n",
       " 'durationMs': {'latestOffset': 1, 'triggerExecution': 1},\n",
       " 'eventTime': {'watermark': '2022-06-22T02:28:40.020Z'},\n",
       " 'stateOperators': [],\n",
       " 'sources': [{'description': 'KafkaV2[Subscribe[quickstart-events]]',\n",
       "   'startOffset': {'quickstart-events': {'0': 38}},\n",
       "   'endOffset': {'quickstart-events': {'0': 38}},\n",
       "   'latestOffset': {'quickstart-events': {'0': 38}},\n",
       "   'numInputRows': 0,\n",
       "   'inputRowsPerSecond': 0.0,\n",
       "   'processedRowsPerSecond': 0.0,\n",
       "   'metrics': {'avgOffsetsBehindLatest': '0.0',\n",
       "    'maxOffsetsBehindLatest': '0',\n",
       "    'minOffsetsBehindLatest': '0'}}],\n",
       " 'sink': {'description': 'MemorySink', 'numOutputRows': 0}}"
      ]
     },
     "metadata": {},
     "output_type": "display_data"
    },
    {
     "name": "stdout",
     "output_type": "stream",
     "text": [
      "+----+--------------------+-----------------+---------+------+--------------------+-------------+\n",
      "| key|               value|            topic|partition|offset|           timestamp|timestampType|\n",
      "+----+--------------------+-----------------+---------+------+--------------------+-------------+\n",
      "|null|       [61 61 61 61]|quickstart-events|        0|    16|2022-06-22 11:17:...|            0|\n",
      "|null|       [62 62 62 62]|quickstart-events|        0|    17|2022-06-22 11:19:...|            0|\n",
      "|null|                [61]|quickstart-events|        0|    18|2022-06-22 11:26:...|            0|\n",
      "|null|                [62]|quickstart-events|        0|    19|2022-06-22 11:26:...|            0|\n",
      "|null|          [76 76 76]|quickstart-events|        0|    20|2022-06-22 11:26:...|            0|\n",
      "|null| [64 67 72 67 64 66]|quickstart-events|        0|    21|2022-06-22 11:26:...|            0|\n",
      "|null|[72 67 66 78 62 6...|quickstart-events|        0|    22|2022-06-22 11:26:...|            0|\n",
      "|null|[71 71 71 71 71 7...|quickstart-events|        0|    23|2022-06-22 11:27:...|            0|\n",
      "|null|                [71]|quickstart-events|        0|    24|2022-06-22 11:28:...|            0|\n",
      "|null|                [71]|quickstart-events|        0|    25|2022-06-22 11:28:...|            0|\n",
      "|null|                [71]|quickstart-events|        0|    26|2022-06-22 11:28:...|            0|\n",
      "|null|                [64]|quickstart-events|        0|    27|2022-06-22 11:28:...|            0|\n",
      "|null|       [66 27 73 64]|quickstart-events|        0|    28|2022-06-22 11:28:...|            0|\n",
      "|null|                [66]|quickstart-events|        0|    29|2022-06-22 11:28:...|            0|\n",
      "|null|          [67 66 72]|quickstart-events|        0|    30|2022-06-22 11:28:...|            0|\n",
      "|null|                [66]|quickstart-events|        0|    31|2022-06-22 11:28:...|            0|\n",
      "|null|                [66]|quickstart-events|        0|    32|2022-06-22 11:28:...|            0|\n",
      "|null|          [62 64 76]|quickstart-events|        0|    33|2022-06-22 11:28:...|            0|\n",
      "|null|                [76]|quickstart-events|        0|    34|2022-06-22 11:28:...|            0|\n",
      "|null|          [64 64 73]|quickstart-events|        0|    35|2022-06-22 11:28:...|            0|\n",
      "+----+--------------------+-----------------+---------+------+--------------------+-------------+\n",
      "only showing top 20 rows\n",
      "\n"
     ]
    },
    {
     "data": {
      "text/plain": [
       "None"
      ]
     },
     "metadata": {},
     "output_type": "display_data"
    },
    {
     "ename": "KeyboardInterrupt",
     "evalue": "",
     "output_type": "error",
     "traceback": [
      "\u001b[0;31m---------------------------------------------------------------------------\u001b[0m",
      "\u001b[0;31mKeyboardInterrupt\u001b[0m                         Traceback (most recent call last)",
      "\u001b[0;32m<ipython-input-8-dc5b54e1f09b>\u001b[0m in \u001b[0;36m<module>\u001b[0;34m\u001b[0m\n\u001b[1;32m      7\u001b[0m     \u001b[0mdisplay\u001b[0m\u001b[0;34m(\u001b[0m\u001b[0moutQ\u001b[0m\u001b[0;34m.\u001b[0m\u001b[0mlastProgress\u001b[0m\u001b[0;34m)\u001b[0m\u001b[0;34m\u001b[0m\u001b[0;34m\u001b[0m\u001b[0m\n\u001b[1;32m      8\u001b[0m     \u001b[0mdisplay\u001b[0m\u001b[0;34m(\u001b[0m\u001b[0mspark\u001b[0m\u001b[0;34m.\u001b[0m\u001b[0msql\u001b[0m\u001b[0;34m(\u001b[0m\u001b[0;34mf'SELECT * FROM mytable'\u001b[0m\u001b[0;34m)\u001b[0m\u001b[0;34m.\u001b[0m\u001b[0mshow\u001b[0m\u001b[0;34m(\u001b[0m\u001b[0;34m)\u001b[0m\u001b[0;34m)\u001b[0m\u001b[0;34m\u001b[0m\u001b[0;34m\u001b[0m\u001b[0m\n\u001b[0;32m----> 9\u001b[0;31m     \u001b[0mtime\u001b[0m\u001b[0;34m.\u001b[0m\u001b[0msleep\u001b[0m\u001b[0;34m(\u001b[0m\u001b[0;36m10\u001b[0m\u001b[0;34m)\u001b[0m\u001b[0;34m\u001b[0m\u001b[0;34m\u001b[0m\u001b[0m\n\u001b[0m",
      "\u001b[0;31mKeyboardInterrupt\u001b[0m: "
     ]
    }
   ],
   "source": [
    "from IPython.display import display, clear_output\n",
    "import time  \n",
    "\n",
    "while True:\n",
    "    clear_output(wait=True)\n",
    "    display(outQ.status)\n",
    "    display(outQ.lastProgress)\n",
    "    display(spark.sql(f'SELECT * FROM mytable').show())\n",
    "    time.sleep(10)"
   ]
  },
  {
   "cell_type": "code",
   "execution_count": 9,
   "id": "00b15031-c2ce-4223-88af-69a0daaa5e3a",
   "metadata": {},
   "outputs": [
    {
     "data": {
      "text/plain": [
       "{'message': 'Waiting for data to arrive',\n",
       " 'isDataAvailable': False,\n",
       " 'isTriggerActive': False}"
      ]
     },
     "execution_count": 9,
     "metadata": {},
     "output_type": "execute_result"
    }
   ],
   "source": [
    "outQ.processAllAvailable()\n",
    "outQ.status"
   ]
  },
  {
   "cell_type": "code",
   "execution_count": 9,
   "id": "aba11ac1-d1e5-41a0-a522-4f284345421c",
   "metadata": {},
   "outputs": [],
   "source": [
    "# help(outQ)"
   ]
  },
  {
   "cell_type": "code",
   "execution_count": 10,
   "id": "bf7b2f0b-dbb2-4511-af94-9e7ba6c68faf",
   "metadata": {},
   "outputs": [],
   "source": [
    "spark.stop()"
   ]
  }
 ],
 "metadata": {
  "kernelspec": {
   "display_name": "Python 3",
   "language": "python",
   "name": "python3"
  },
  "language_info": {
   "codemirror_mode": {
    "name": "ipython",
    "version": 3
   },
   "file_extension": ".py",
   "mimetype": "text/x-python",
   "name": "python",
   "nbconvert_exporter": "python",
   "pygments_lexer": "ipython3",
   "version": "3.6.9"
  }
 },
 "nbformat": 4,
 "nbformat_minor": 5
}
