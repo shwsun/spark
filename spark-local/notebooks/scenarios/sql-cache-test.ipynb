{
 "cells": [
  {
   "cell_type": "markdown",
   "id": "6f0c0d16-5a13-431a-8bad-2ecb296b9e58",
   "metadata": {
    "tags": []
   },
   "source": [
    "# SQL & cache 방식 차감 성능 테스트  \n",
    "- cache 이용한 차감 전체 차감 속도 측정(stream server 안에서)  \n",
    "- snapshot 저장하지 않고, cache로 저장하고 이를 기반으로 사용할 경우 성능 테스트  \n",
    "- 이 경우에도 주기적으로 snapshot 저장해야 함.  \n",
    "- 중간 실패 후 재실행시, snapshot 에서 append request를 조합해 동일한 결과를 만들 수 있어야 사용 가능.  \n",
    "- cache 사용 시, DAG 가 누적되는 현상에 유의해야 한다. 성능이 기하급수로 느려 짐.  \n"
   ]
  },
  {
   "cell_type": "code",
   "execution_count": 1,
   "id": "a58f38ae-76fd-4436-86a9-190f36e6edc3",
   "metadata": {},
   "outputs": [],
   "source": [
    "# 필요 라이브러리 임포트  \n",
    "import socket\n",
    "import sys\n",
    "import os\n",
    "from pyspark import SparkContext, SparkConf\n",
    "from pyspark.streaming import StreamingContext\n",
    "from pyspark.sql import Row, SparkSession\n",
    "from os.path import abspath\n",
    "# import findspark\n",
    "import time \n",
    "import numpy as np \n",
    "import pandas as pd\n",
    "import pyarrow "
   ]
  },
  {
   "cell_type": "code",
   "execution_count": 2,
   "id": "71d62cca-1e71-4162-af99-1c6a0f80b275",
   "metadata": {},
   "outputs": [],
   "source": [
    "# 환경변수 정의  \n",
    "scale = 1000 # 1000 만 건 수준\n",
    "PRJ_ROOT = '/user/root'\n",
    "APP_NAME = 'RDD-Pandas'\n",
    "DB_NAME = 'inven'\n",
    "\n",
    "# 데이터의 파일 포맷 및 파일명  \n",
    "tbl_setop_name = 'inven/table-set-6m-20-1000'\n",
    "file_format = 'parquet'"
   ]
  },
  {
   "cell_type": "code",
   "execution_count": 3,
   "id": "eea1a67a-8ec9-447c-a575-fe53411cce2c",
   "metadata": {},
   "outputs": [],
   "source": [
    "# 스파크 생성 \n",
    "def spark_creation():\n",
    "    spark = SparkSession.builder.master('yarn').appName(APP_NAME)\\\n",
    "    .config('spark.rpc.message.maxSize', '1024')\\\n",
    "    .config('spark.sql.execution.arrow.enabled', 'true')\\\n",
    "    .config('spark.driver.cores', '1').config('spark.driver.memory', '7g')\\\n",
    "    .config('spark.num.executors', '3')\\\n",
    "    .config('spark.executor.cores', '1').config('spark.executor.memory', '7g')\\\n",
    "    .config('spark.jars', '/hive-bin/lib/mysql-connector-java-5.1.49-bin.jar')\\\n",
    "    .config('spark.driver.extraClassPath', '/hive-bin/lib/mysql-connector-java-5.1.49-bin.jar').getOrCreate()\n",
    "    #     .config('spark.sql.execution.arrow.enabled', 'true')\\\n",
    "    # spark.rpc.message.maxSize  240007497 \n",
    "    sc = spark.sparkContext\n",
    "    sc\n",
    "    return spark"
   ]
  },
  {
   "cell_type": "code",
   "execution_count": 4,
   "id": "ed042fa3-249f-46fb-96a0-59f4b04114f9",
   "metadata": {},
   "outputs": [
    {
     "name": "stderr",
     "output_type": "stream",
     "text": [
      "/usr/local/lib/python3.6/dist-packages/pyspark/context.py:238: FutureWarning: Python 3.6 support is deprecated in Spark 3.2.\n",
      "  FutureWarning\n"
     ]
    },
    {
     "name": "stdout",
     "output_type": "stream",
     "text": [
      "CPU times: user 38.9 ms, sys: 7.53 ms, total: 46.4 ms\n",
      "Wall time: 19.1 s\n"
     ]
    },
    {
     "data": {
      "text/html": [
       "\n",
       "            <div>\n",
       "                <p><b>SparkSession - in-memory</b></p>\n",
       "                \n",
       "        <div>\n",
       "            <p><b>SparkContext</b></p>\n",
       "\n",
       "            <p><a href=\"http://spark-master:4040\">Spark UI</a></p>\n",
       "\n",
       "            <dl>\n",
       "              <dt>Version</dt>\n",
       "                <dd><code>v3.1.3</code></dd>\n",
       "              <dt>Master</dt>\n",
       "                <dd><code>yarn</code></dd>\n",
       "              <dt>AppName</dt>\n",
       "                <dd><code>RDD-Pandas</code></dd>\n",
       "            </dl>\n",
       "        </div>\n",
       "        \n",
       "            </div>\n",
       "        "
      ],
      "text/plain": [
       "<pyspark.sql.session.SparkSession at 0x7f2f95096940>"
      ]
     },
     "execution_count": 4,
     "metadata": {},
     "output_type": "execute_result"
    }
   ],
   "source": [
    "%%time\n",
    "spark = spark_creation()\n",
    "spark"
   ]
  },
  {
   "cell_type": "markdown",
   "id": "d1a28079-4b53-44d4-92fe-52c50670e8b7",
   "metadata": {},
   "source": [
    "# 최초 적재 & 캐싱 & 차감 캐싱  \n",
    "최초 완전 적재 후에 이에 대해 연산 후, 캐싱한다.  \n",
    "캐싱 결과를 빠르게 사용할 수 있는 지 확인하고, 캐싱 시간을 확인  \n",
    "  \n"
   ]
  },
  {
   "cell_type": "markdown",
   "id": "a16def51-a8cc-43f8-a3a9-98e7392af03d",
   "metadata": {
    "tags": []
   },
   "source": [
    "## Data 최초 적재 및 캐싱 \n",
    "- 최초 select 100 : 25 초 \n",
    "- 2번째 : filter : 1.1 초  \n",
    "- 캐싱시 연산 스택이 누적되서, 일정 횟수 이상 지나면 2배씩 느려진다.  "
   ]
  },
  {
   "cell_type": "code",
   "execution_count": 5,
   "id": "d2c65dd9-6185-40ab-aed2-12935c600749",
   "metadata": {},
   "outputs": [],
   "source": [
    "# 샘플 데이터 형식 정의. 읽기/쓰기 편의 제공. \n",
    "def define_schema():\n",
    "    from pyspark.sql.types import StructType, StructField, StringType, LongType, FloatType\n",
    "    columns = [\n",
    "        StructField(\"setop\", StringType())\n",
    "        , StructField(\"stype\", StringType())\n",
    "        , StructField(\"inv_rate_01\", FloatType())\n",
    "        , StructField(\"inv_val_01\", LongType())\n",
    "        , StructField(\"inv_req_01\", LongType())\n",
    "        , StructField(\"inv_rate_02\", FloatType())\n",
    "        , StructField(\"inv_val_02\", LongType())\n",
    "        , StructField(\"inv_req_02\", LongType())\n",
    "        , StructField(\"inv_rate_03\", FloatType())\n",
    "        , StructField(\"inv_val_03\", LongType())\n",
    "        , StructField(\"inv_req_03\", LongType())\n",
    "        , StructField(\"inv_rate_04\", FloatType())\n",
    "        , StructField(\"inv_val_04\", LongType())\n",
    "        , StructField(\"inv_req_04\", LongType())\n",
    "        , StructField(\"inv_rate_05\", FloatType())\n",
    "        , StructField(\"inv_val_05\", LongType())\n",
    "        , StructField(\"inv_req_05\", LongType())        \n",
    "        , StructField(\"inv_rate_06\", FloatType())\n",
    "        , StructField(\"inv_val_06\", LongType())\n",
    "        , StructField(\"inv_req_06\", LongType())        \n",
    "    ]\n",
    "    sample_schema = StructType(columns)\n",
    "    return sample_schema"
   ]
  },
  {
   "cell_type": "code",
   "execution_count": 63,
   "id": "39c8c674-88c1-4553-aa90-3483b7c70d00",
   "metadata": {},
   "outputs": [
    {
     "name": "stdout",
     "output_type": "stream",
     "text": [
      "+------------+-----+-----------+----------+----------+-----------+----------+----------+-----------+----------+----------+-----------+----------+----------+-----------+----------+----------+-----------+----------+----------+\n",
      "|       setop|stype|inv_rate_01|inv_val_01|inv_req_01|inv_rate_02|inv_val_02|inv_req_02|inv_rate_03|inv_val_03|inv_req_03|inv_rate_04|inv_val_04|inv_req_04|inv_rate_05|inv_val_05|inv_req_05|inv_rate_06|inv_val_06|inv_req_06|\n",
      "+------------+-----+-----------+----------+----------+-----------+----------+----------+-----------+----------+----------+-----------+----------+----------+-----------+----------+----------+-----------+----------+----------+\n",
      "|ST_A_0000000| ST_A|     1.0E-5|      1000|         0|     1.0E-5|      1000|         0|     1.0E-5|      1000|         0|     1.0E-5|      1000|         0|     1.0E-5|      1000|         0|     1.0E-5|      1000|         0|\n",
      "|ST_A_0000001| ST_A|     1.0E-5|      1000|         0|     1.0E-5|      1000|         0|     1.0E-5|      1000|         0|     1.0E-5|      1000|         0|     1.0E-5|      1000|         0|     1.0E-5|      1000|         0|\n",
      "|ST_A_0000002| ST_A|     1.0E-5|      1000|         0|     1.0E-5|      1000|         0|     1.0E-5|      1000|         0|     1.0E-5|      1000|         0|     1.0E-5|      1000|         0|     1.0E-5|      1000|         0|\n",
      "|ST_A_0000003| ST_A|     1.0E-5|      1000|         0|     1.0E-5|      1000|         0|     1.0E-5|      1000|         0|     1.0E-5|      1000|         0|     1.0E-5|      1000|         0|     1.0E-5|      1000|         0|\n",
      "|ST_A_0000004| ST_A|     1.0E-5|      1000|         0|     1.0E-5|      1000|         0|     1.0E-5|      1000|         0|     1.0E-5|      1000|         0|     1.0E-5|      1000|         0|     1.0E-5|      1000|         0|\n",
      "+------------+-----+-----------+----------+----------+-----------+----------+----------+-----------+----------+----------+-----------+----------+----------+-----------+----------+----------+-----------+----------+----------+\n",
      "\n",
      "CPU times: user 2.77 ms, sys: 1.69 ms, total: 4.46 ms\n",
      "Wall time: 395 ms\n"
     ]
    }
   ],
   "source": [
    "%%time\n",
    "## 인벤 기준 정보 조회  \n",
    "# 최초 select 100 : 25 초 \n",
    "# 2번째 : filter : 1.1 초  \n",
    "tbl_name = f\"setop_view_mem\"\n",
    "spark.read.format(file_format).load(tbl_setop_name).createOrReplaceTempView(tbl_name)\n",
    "spark.catalog.cacheTable(tbl_name)\n",
    "spark.catalog.isCached(tbl_name)\n",
    "# 지연연산을 바로 호출 \n",
    "spark.sql(f\"select * from {tbl_name} where stype='ST_A' limit 5 \").show()"
   ]
  },
  {
   "cell_type": "code",
   "execution_count": 61,
   "id": "537e6a02-ef21-41a7-8cbb-30c2de09a723",
   "metadata": {},
   "outputs": [
    {
     "data": {
      "text/plain": [
       "DataFrame[setop: string, stype: string, inv_rate_01: float, inv_val_01: bigint, inv_req_01: bigint, inv_rate_02: float, inv_val_02: bigint, inv_req_02: bigint, inv_rate_03: float, inv_val_03: bigint, inv_req_03: bigint, inv_rate_04: float, inv_val_04: bigint, inv_req_04: bigint, inv_rate_05: float, inv_val_05: bigint, inv_req_05: bigint, inv_rate_06: float, inv_val_06: bigint, inv_req_06: bigint]"
      ]
     },
     "execution_count": 61,
     "metadata": {},
     "output_type": "execute_result"
    }
   ],
   "source": [
    "from pyspark.storagelevel import StorageLevel\n",
    "sdf = spark.sql(f\"select * from {tbl_name} where stype='ST_A' limit 5 \")\n",
    "sdf.persist(StorageLevel.MEMORY_ONLY_2)\n",
    "sdf"
   ]
  },
  {
   "cell_type": "code",
   "execution_count": null,
   "id": "59d78ad2-9fdf-48af-8dab-5d3c35856374",
   "metadata": {},
   "outputs": [],
   "source": []
  },
  {
   "cell_type": "code",
   "execution_count": null,
   "id": "8510e5f5-156a-449d-8e4a-bd2f7ed840f2",
   "metadata": {},
   "outputs": [],
   "source": []
  },
  {
   "cell_type": "code",
   "execution_count": null,
   "id": "9a285dd5-87b0-4c3d-80d6-852ff88e9e6b",
   "metadata": {},
   "outputs": [],
   "source": []
  },
  {
   "cell_type": "code",
   "execution_count": null,
   "id": "d3f618f6-bd34-4263-a32f-439e9adc813d",
   "metadata": {},
   "outputs": [],
   "source": []
  },
  {
   "cell_type": "code",
   "execution_count": 28,
   "id": "8c064654-e344-491d-9a1d-e08361a55f67",
   "metadata": {},
   "outputs": [],
   "source": []
  },
  {
   "cell_type": "code",
   "execution_count": null,
   "id": "f80cc22a-4d7a-4294-85cb-9d4f9b4ba8fe",
   "metadata": {},
   "outputs": [],
   "source": []
  },
  {
   "cell_type": "code",
   "execution_count": null,
   "id": "1a91c6c4-7aff-435a-97b2-75dea09fc2da",
   "metadata": {},
   "outputs": [],
   "source": []
  },
  {
   "cell_type": "code",
   "execution_count": 66,
   "id": "6448a1a0-f708-4f8e-80ee-ef66ac1c03df",
   "metadata": {},
   "outputs": [],
   "source": [
    "# 차감 연산 + 캐싱  : 27 초  \n",
    "# 차감하고 그 결과를 저장해 두고 다시 연산 기반으로 사용해야 하는 상황을 흉내내기 위해 차감 연산  \n",
    "# 차감한 결과를 result 에 저장. 여기에서 리포트 생성. \n",
    "# result를 다시 setop_view 캐시에 덮어쓰고, 요청 들어올 때 여기에서 다시 차감 실행. \n",
    "def calc_caching(idx=0, stype='ST_A', amount=1):\n",
    "    view_name = f\"setop_view_mem\"\n",
    "    sql_minus = f\"\"\"\n",
    "    SELECT * FROM {view_name} WHERE stype!='ST_J' \n",
    "    UNION ALL \n",
    "    SELECT \n",
    "    setop , stype \n",
    "    , inv_rate_01, (inv_val_01 - 3) inv_val_01, inv_req_01 \n",
    "    , inv_rate_02, (inv_val_02 - 3) inv_val_02, inv_req_02 \n",
    "    , inv_rate_03, (inv_val_03 - 3) inv_val_03, inv_req_03\n",
    "    , inv_rate_04, (inv_val_04 - 3) inv_val_04, inv_req_04 \n",
    "    , inv_rate_05, (inv_val_05 - 3) inv_val_05, inv_req_05 \n",
    "    , inv_rate_06, (inv_val_06 - 3) inv_val_06, inv_req_06 \n",
    "    FROM {view_name} WHERE stype='ST_J' \n",
    "    \"\"\"\n",
    "    spark.sql(sql_minus).createOrReplaceTempView(\"result\")\n",
    "    \n",
    "    #spark.sql(sql_minus).createOrReplaceTempView(\"setop_view\")\n",
    "    #df_c = spark.sql(sql_minus).toDF()\n",
    "\n",
    "    # 캐시 덮어쓰기  : 22 초 정도  \n",
    "    view_next = f\"setop_view_mem\"\n",
    "    spark.sql(\"select * from result\").createOrReplaceTempView(view_next)\n",
    "    df = spark.sql(f\"select * from {view_next}\")\n",
    "    df.persist(StorageLevel.MEMORY_ONLY_2)\n",
    "    # print(spark.catalog.isCached('setop_view'))\n",
    "    # spark.catalog.cacheTable(\"setop_view\")\n",
    "    # spark.catalog.isCached('setop_view')\n",
    "    sql = f\"select sum(inv_val_01), stype from {view_next} WHERE stype='ST_J' group by stype\"\n",
    "    # print(sql)\n",
    "    spark.sql(sql).show()\n",
    "    # print(df)"
   ]
  },
  {
   "cell_type": "code",
   "execution_count": 67,
   "id": "e2a41e02-ae41-4e56-b0dc-c4b3b09a743e",
   "metadata": {
    "collapsed": true,
    "jupyter": {
     "outputs_hidden": true
    },
    "tags": []
   },
   "outputs": [
    {
     "name": "stdout",
     "output_type": "stream",
     "text": [
      "+---------------+-----+\n",
      "|sum(inv_val_01)|stype|\n",
      "+---------------+-----+\n",
      "|     1000000000| ST_J|\n",
      "+---------------+-----+\n",
      "\n",
      "1.193338113000209\n",
      "+---------------+-----+\n",
      "|sum(inv_val_01)|stype|\n",
      "+---------------+-----+\n",
      "|     1000000000| ST_J|\n",
      "+---------------+-----+\n",
      "\n",
      "0.9852671520002332\n",
      "+---------------+-----+\n",
      "|sum(inv_val_01)|stype|\n",
      "+---------------+-----+\n",
      "|     1000000000| ST_J|\n",
      "+---------------+-----+\n",
      "\n",
      "1.1206628139989334\n",
      "+---------------+-----+\n",
      "|sum(inv_val_01)|stype|\n",
      "+---------------+-----+\n",
      "|     1000000000| ST_J|\n",
      "+---------------+-----+\n",
      "\n",
      "1.2959668250005052\n",
      "+---------------+-----+\n",
      "|sum(inv_val_01)|stype|\n",
      "+---------------+-----+\n",
      "|     1000000000| ST_J|\n",
      "+---------------+-----+\n",
      "\n",
      "1.7943930820001697\n",
      "+---------------+-----+\n",
      "|sum(inv_val_01)|stype|\n",
      "+---------------+-----+\n",
      "|     1000000000| ST_J|\n",
      "+---------------+-----+\n",
      "\n",
      "2.601517585999318\n",
      "+---------------+-----+\n",
      "|sum(inv_val_01)|stype|\n",
      "+---------------+-----+\n",
      "|     1000000000| ST_J|\n",
      "+---------------+-----+\n",
      "\n",
      "4.193932393000068\n",
      "+---------------+-----+\n",
      "|sum(inv_val_01)|stype|\n",
      "+---------------+-----+\n",
      "|     1000000000| ST_J|\n",
      "+---------------+-----+\n",
      "\n",
      "7.256419428998925\n",
      "+---------------+-----+\n",
      "|sum(inv_val_01)|stype|\n",
      "+---------------+-----+\n",
      "|     1000000000| ST_J|\n",
      "+---------------+-----+\n",
      "\n",
      "13.19365653299974\n",
      "+---------------+-----+\n",
      "|sum(inv_val_01)|stype|\n",
      "+---------------+-----+\n",
      "|     1000000000| ST_J|\n",
      "+---------------+-----+\n",
      "\n",
      "25.227107487000467\n",
      "CPU times: user 56.6 ms, sys: 13.6 ms, total: 70.3 ms\n",
      "Wall time: 58.9 s\n"
     ]
    }
   ],
   "source": [
    "%%time\n",
    "from timeit import default_timer as timer\n",
    "for i in range(0, 10): \n",
    "    start = timer()\n",
    "    calc_caching(i, 'ST_J', 100)\n",
    "    end = timer()\n",
    "    print(end - start)"
   ]
  },
  {
   "cell_type": "code",
   "execution_count": 53,
   "id": "5cb03f3c-a375-4953-a2cb-4b80634be7df",
   "metadata": {},
   "outputs": [
    {
     "name": "stdout",
     "output_type": "stream",
     "text": [
      "+---------------+-----+\n",
      "|sum(inv_val_01)|stype|\n",
      "+---------------+-----+\n",
      "|      970000000| ST_J|\n",
      "+---------------+-----+\n",
      "only showing top 1 row\n",
      "\n",
      "CPU times: user 3.71 ms, sys: 1.07 ms, total: 4.78 ms\n",
      "Wall time: 4.65 s\n"
     ]
    }
   ],
   "source": [
    "%%time\n",
    "spark.sql(\"select sum(inv_val_01), stype from setop_view_40 group by stype\").show(1)"
   ]
  },
  {
   "cell_type": "code",
   "execution_count": 71,
   "id": "4a22b1b9-3fe4-458a-821a-75638c9de701",
   "metadata": {},
   "outputs": [],
   "source": [
    "spark.sql(\"select * from setop_view_mem\").write.save(path=\"out_parq\", format=file_format, mode=\"overwrite\")"
   ]
  },
  {
   "cell_type": "markdown",
   "id": "f5139fb4-10a4-4b6c-b287-b78d64137a9e",
   "metadata": {},
   "source": [
    "---  "
   ]
  },
  {
   "cell_type": "code",
   "execution_count": 1,
   "id": "e7a2e587-ffee-496e-a72e-a404db85eaa0",
   "metadata": {},
   "outputs": [
    {
     "ename": "NameError",
     "evalue": "name 'spark' is not defined",
     "output_type": "error",
     "traceback": [
      "\u001b[0;31m---------------------------------------------------------------------------\u001b[0m",
      "\u001b[0;31mNameError\u001b[0m                                 Traceback (most recent call last)",
      "\u001b[0;32m<ipython-input-1-5c6b4d5d9db0>\u001b[0m in \u001b[0;36m<module>\u001b[0;34m\u001b[0m\n\u001b[0;32m----> 1\u001b[0;31m \u001b[0mspark\u001b[0m\u001b[0;34m.\u001b[0m\u001b[0mstop\u001b[0m\u001b[0;34m(\u001b[0m\u001b[0;34m)\u001b[0m\u001b[0;34m\u001b[0m\u001b[0;34m\u001b[0m\u001b[0m\n\u001b[0m",
      "\u001b[0;31mNameError\u001b[0m: name 'spark' is not defined"
     ]
    }
   ],
   "source": [
    "spark.stop()"
   ]
  }
 ],
 "metadata": {
  "kernelspec": {
   "display_name": "Python 3",
   "language": "python",
   "name": "python3"
  },
  "language_info": {
   "codemirror_mode": {
    "name": "ipython",
    "version": 3
   },
   "file_extension": ".py",
   "mimetype": "text/x-python",
   "name": "python",
   "nbconvert_exporter": "python",
   "pygments_lexer": "ipython3",
   "version": "3.6.9"
  }
 },
 "nbformat": 4,
 "nbformat_minor": 5
}
