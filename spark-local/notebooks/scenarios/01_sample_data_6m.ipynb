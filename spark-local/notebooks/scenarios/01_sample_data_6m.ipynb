{
 "cells": [
  {
   "cell_type": "markdown",
   "id": "01985d71-d0ba-46fc-ae43-2b361adc5308",
   "metadata": {},
   "source": [
    "# 샘플 데이터 생성 6개월   \n",
    "연습에 사용할 샘플 데이터를 생성합니다.  \n",
    "- 채널/시간/주중말 인벤 : table-chn, 200 * 24 * 2.  \n",
    "- 셋탑/지역 인벤 : table-set, 1,000 만. rate, val, req 컬럼 6개월 분.  \n",
    "- 셋탑/타겟 매핑 정보 : table-map  \n",
    "- 타겟 인벤 : table-seg, 200.    \n",
    "  \n",
    "inventory db 에 생성.  \n",
    "연산 전에 hive 에서 생성해서 넘겨주는 데이터  \n",
    "\n",
    "*** 1,000만 6개월 컬럼 샘플 데이터 ***  \n",
    "100 part  \n",
    "- 데이터 생성 : 31 초 \n",
    "- 파키 쓰기 :  68 초 (8 core 32GB, 3 data node) \n",
    "- 파키 쓰기 :  120 초 (4 core 16GB, 2 data node) \n"
   ]
  },
  {
   "cell_type": "code",
   "execution_count": 1,
   "id": "0657f239-2675-409d-820d-2ab11bb449d4",
   "metadata": {},
   "outputs": [],
   "source": [
    "# 필요 라이브러리 임포트  \n",
    "import socket\n",
    "import sys\n",
    "import os\n",
    "from pyspark import SparkContext, SparkConf\n",
    "from pyspark.streaming import StreamingContext\n",
    "from pyspark.sql import Row, SparkSession\n",
    "from os.path import abspath\n",
    "import findspark\n",
    "import time "
   ]
  },
  {
   "cell_type": "code",
   "execution_count": 2,
   "id": "8c16fd2f-27cc-4493-83b7-53d4762537f0",
   "metadata": {},
   "outputs": [],
   "source": [
    "# 환경변수 정의  \n",
    "scale = 1000 # 1000 만 건 수준\n",
    "partition_num = 50\n",
    "tbl_setop_name = f'inven/table-set-6m-{partition_num}-{scale}'\n",
    "file_format = 'parquet'\n",
    "\n",
    "PRJ_ROOT = '/user/root'\n",
    "APP_NAME = f'spark-01-sample-creation-6m-{partition_num}-{scale}'\n",
    "DB_NAME = 'inven'"
   ]
  },
  {
   "cell_type": "code",
   "execution_count": 3,
   "id": "4d6d1dd4-e8d4-4a9b-a8d7-3c132f54f7aa",
   "metadata": {},
   "outputs": [],
   "source": [
    "# 스파크 생성 \n",
    "def spark_creation():\n",
    "    spark = SparkSession.builder.master('yarn').appName(APP_NAME)\\\n",
    "    .config('spark.driver.cores', '2').config('spark.driver.memory', '2g')\\\n",
    "    .config('spark.num.executors', '2')\\\n",
    "    .config('spark.executor.cores', '4').config('spark.executor.memory', '4g').getOrCreate()\n",
    "    sc = spark.sparkContext\n",
    "    sc\n",
    "    return spark"
   ]
  },
  {
   "cell_type": "code",
   "execution_count": 4,
   "id": "1fd0b5ee-33b2-4c03-8fde-16c4a011adbc",
   "metadata": {},
   "outputs": [
    {
     "name": "stderr",
     "output_type": "stream",
     "text": [
      "/usr/local/lib/python3.6/dist-packages/pyspark/context.py:238: FutureWarning: Python 3.6 support is deprecated in Spark 3.2.\n",
      "  FutureWarning\n"
     ]
    }
   ],
   "source": [
    "spark = spark_creation()"
   ]
  },
  {
   "cell_type": "code",
   "execution_count": 5,
   "id": "fc8e36e2-2324-45ed-b789-7ece0a864f1c",
   "metadata": {},
   "outputs": [],
   "source": [
    "scale = 1000"
   ]
  },
  {
   "cell_type": "code",
   "execution_count": 6,
   "id": "79906233-1e70-4d46-8d28-f97001153a2f",
   "metadata": {},
   "outputs": [],
   "source": [
    "# 샘플 데이터 생성 \n",
    "def create_setops():\n",
    "    setop_count = scale * 10000\n",
    "    inv_rate = 1.0 \n",
    "    # 1개월에 최대 1000 건 청약 가정. \n",
    "    inv_val = 1000\n",
    "    inv_req = 0\n",
    "    setop_name = ['ST_A', 'ST_B', 'ST_C', 'ST_D', 'ST_E', 'ST_F', 'ST_G', 'ST_H', 'ST_I', 'ST_J']\n",
    "    setops = []\n",
    "    for s in setop_name:\n",
    "        for i in range(0, int(setop_count/len(setop_name))):\n",
    "            setop_id = f'{s}_{i:07d}'\n",
    "            setops.append([setop_id, inv_rate,inv_val,inv_req, inv_rate,inv_val,inv_req\\\n",
    "                           , inv_rate,inv_val,inv_req, inv_rate,inv_val,inv_req, inv_rate,inv_val,inv_req, inv_rate,inv_val,inv_req])\n",
    "            \n",
    "    print(setops[-2:])\n",
    "    return setops\n",
    "# 샘플 데이터 형식 정의. 읽기/쓰기 편의 제공. \n",
    "def define_schema():\n",
    "    from pyspark.sql.types import StructType, StructField, StringType, LongType, FloatType\n",
    "    columns = [\n",
    "        StructField(\"setop\", StringType())\n",
    "        , StructField(\"inv_rate_01\", FloatType())\n",
    "        , StructField(\"inv_val_01\", LongType())\n",
    "        , StructField(\"inv_req_01\", LongType())\n",
    "        , StructField(\"inv_rate_02\", FloatType())\n",
    "        , StructField(\"inv_val_02\", LongType())\n",
    "        , StructField(\"inv_req_02\", LongType())\n",
    "        , StructField(\"inv_rate_03\", FloatType())\n",
    "        , StructField(\"inv_val_03\", LongType())\n",
    "        , StructField(\"inv_req_03\", LongType())\n",
    "        , StructField(\"inv_rate_04\", FloatType())\n",
    "        , StructField(\"inv_val_04\", LongType())\n",
    "        , StructField(\"inv_req_04\", LongType())\n",
    "        , StructField(\"inv_rate_05\", FloatType())\n",
    "        , StructField(\"inv_val_05\", LongType())\n",
    "        , StructField(\"inv_req_05\", LongType())        \n",
    "        , StructField(\"inv_rate_06\", FloatType())\n",
    "        , StructField(\"inv_val_06\", LongType())\n",
    "        , StructField(\"inv_req_06\", LongType())        \n",
    "    ]\n",
    "    sample_schema = StructType(columns)\n",
    "    return sample_schema\n",
    "\n",
    "# 샘플 타겟 정보 생성. 20 개 카테고리. \n",
    "def create_target():\n",
    "    segs = []\n",
    "    seg_count = 20\n",
    "    for i in range(0, seg_count):\n",
    "        seg_id = f'CATEGORY_{i:03d}'\n",
    "        segs.append(seg_id)\n",
    "            \n",
    "    print(segs[-2:])\n",
    "    return segs"
   ]
  },
  {
   "cell_type": "code",
   "execution_count": null,
   "id": "52462f5c-f8c2-400d-92e1-e1f6334a454a",
   "metadata": {},
   "outputs": [],
   "source": []
  },
  {
   "cell_type": "code",
   "execution_count": 7,
   "id": "891ebbdd-0aca-4735-8ec7-749d1db28be9",
   "metadata": {},
   "outputs": [
    {
     "name": "stdout",
     "output_type": "stream",
     "text": [
      "[['ST_J_0999998', 1.0, 1000, 0, 1.0, 1000, 0, 1.0, 1000, 0, 1.0, 1000, 0, 1.0, 1000, 0, 1.0, 1000, 0], ['ST_J_0999999', 1.0, 1000, 0, 1.0, 1000, 0, 1.0, 1000, 0, 1.0, 1000, 0, 1.0, 1000, 0, 1.0, 1000, 0]]\n",
      "CPU times: user 26 s, sys: 2.64 s, total: 28.6 s\n",
      "Wall time: 35.5 s\n"
     ]
    }
   ],
   "source": [
    "%%time \n",
    "# 샘플 데이터 생성 및 확인 \n",
    "sample_data = create_setops()\n",
    "sample_schema = define_schema()\n",
    "\n",
    "rdd = spark.sparkContext.parallelize(sample_data, partition_num)\n",
    "df = spark.createDataFrame(rdd, sample_schema)\n",
    "#df.show(10)"
   ]
  },
  {
   "cell_type": "code",
   "execution_count": 8,
   "id": "434b6356-e384-4ad1-b474-d560f78c25b8",
   "metadata": {},
   "outputs": [
    {
     "name": "stdout",
     "output_type": "stream",
     "text": [
      "CPU times: user 21.2 ms, sys: 11.7 ms, total: 32.9 ms\n",
      "Wall time: 2min 3s\n"
     ]
    }
   ],
   "source": [
    "%%time \n",
    "write_mode = 'overwrite'\n",
    "# HDFS 에 /user/root/inven/setop 폴더와 파일이 생성 됨.  \n",
    "# 클러스터 메모리/cpu 여유 있으면, 적당한 크기로 한방에 처리.\n",
    "df.write.save(path=tbl_setop_name, format=file_format, mode=write_mode)\n",
    "# # 클러스터 메모리/cpu 적은 경우, 한번에 쓰면 오히려 오래 걸림. \n",
    "# df.createOrReplaceTempView('temp')\n",
    "# print('---- temp view created -----')\n",
    "# setop_types = ['A', 'B', 'C', 'D', 'E', 'F', 'G', 'H', 'I', 'J'] \n",
    "# for stype in setop_types:\n",
    "#     df_tmp = spark.sql(f\"select * from temp where setop like 'ST_{stype}%'\")\n",
    "#     df.write.save(path=tbl_setop_name, format=file_format, mode=write_mode)\n",
    "#     write_mode = 'append'\n",
    "#     print(f' {stype} saved. ')\n",
    "# print('---------')"
   ]
  },
  {
   "cell_type": "code",
   "execution_count": 9,
   "id": "7f1e4883-682a-462d-abc2-8d41f0522578",
   "metadata": {},
   "outputs": [
    {
     "name": "stdout",
     "output_type": "stream",
     "text": [
      "CPU times: user 2.36 ms, sys: 0 ns, total: 2.36 ms\n",
      "Wall time: 69 ms\n"
     ]
    }
   ],
   "source": [
    "%%time \n",
    "rdd.unpersist()\n",
    "del rdd"
   ]
  },
  {
   "cell_type": "code",
   "execution_count": 10,
   "id": "d6d481cb-6334-4caa-bc06-48d649f3ce6b",
   "metadata": {},
   "outputs": [
    {
     "name": "stdout",
     "output_type": "stream",
     "text": [
      "DATA Count : 10,000,000\n",
      "+------------+-----------+----------+----------+-----------+----------+----------+-----------+----------+----------+-----------+----------+----------+-----------+----------+----------+-----------+----------+----------+\n",
      "|       setop|inv_rate_01|inv_val_01|inv_req_01|inv_rate_02|inv_val_02|inv_req_02|inv_rate_03|inv_val_03|inv_req_03|inv_rate_04|inv_val_04|inv_req_04|inv_rate_05|inv_val_05|inv_req_05|inv_rate_06|inv_val_06|inv_req_06|\n",
      "+------------+-----------+----------+----------+-----------+----------+----------+-----------+----------+----------+-----------+----------+----------+-----------+----------+----------+-----------+----------+----------+\n",
      "|ST_A_0599040|        1.0|      1000|         0|        1.0|      1000|         0|        1.0|      1000|         0|        1.0|      1000|         0|        1.0|      1000|         0|        1.0|      1000|         0|\n",
      "|ST_A_0599041|        1.0|      1000|         0|        1.0|      1000|         0|        1.0|      1000|         0|        1.0|      1000|         0|        1.0|      1000|         0|        1.0|      1000|         0|\n",
      "|ST_A_0599042|        1.0|      1000|         0|        1.0|      1000|         0|        1.0|      1000|         0|        1.0|      1000|         0|        1.0|      1000|         0|        1.0|      1000|         0|\n",
      "|ST_A_0599043|        1.0|      1000|         0|        1.0|      1000|         0|        1.0|      1000|         0|        1.0|      1000|         0|        1.0|      1000|         0|        1.0|      1000|         0|\n",
      "|ST_A_0599044|        1.0|      1000|         0|        1.0|      1000|         0|        1.0|      1000|         0|        1.0|      1000|         0|        1.0|      1000|         0|        1.0|      1000|         0|\n",
      "+------------+-----------+----------+----------+-----------+----------+----------+-----------+----------+----------+-----------+----------+----------+-----------+----------+----------+-----------+----------+----------+\n",
      "only showing top 5 rows\n",
      "\n",
      "CPU times: user 7.55 ms, sys: 0 ns, total: 7.55 ms\n",
      "Wall time: 3.86 s\n"
     ]
    }
   ],
   "source": [
    "%%time \n",
    "# 기록한 파일 다시 읽어 들이기 \n",
    "# 저장 결과 확인하기 \n",
    "lines = spark.read.format(file_format).option('path', tbl_setop_name).load()\n",
    "data_count = lines.count()\n",
    "print(f'DATA Count : {data_count:,}')\n",
    "lines.show(5)"
   ]
  },
  {
   "cell_type": "code",
   "execution_count": 11,
   "id": "a045a51b-edb3-4678-a0c4-995aadab4ed1",
   "metadata": {},
   "outputs": [],
   "source": [
    "# 타겟 : 세톱 매핑 정보 생성  \n"
   ]
  },
  {
   "cell_type": "code",
   "execution_count": 12,
   "id": "a1842709-3a90-4d61-99ee-3b3958aefc57",
   "metadata": {},
   "outputs": [],
   "source": [
    "# 샘플 타겟 정보 생성\n",
    "# 샘플 타겟 정보 생성\n",
    "def create_target():\n",
    "    segs = []\n",
    "    seg_count = 20\n",
    "    for i in range(0, seg_count):\n",
    "        seg_id = f'CATEGORY_{i:03d}'\n",
    "        segs.append(seg_id)\n",
    "            \n",
    "    print(segs[-2:])\n",
    "    return segs"
   ]
  },
  {
   "cell_type": "code",
   "execution_count": 13,
   "id": "1daecda1-21c8-4e1b-b844-ffcd0061e0b1",
   "metadata": {},
   "outputs": [
    {
     "name": "stdout",
     "output_type": "stream",
     "text": [
      "--- read data completed. ---\n",
      "['CATEGORY_018', 'CATEGORY_019']\n",
      "==== SEG CATEGORY_000 ====\n",
      "==== SEG CATEGORY_001 ====\n",
      "==== SEG CATEGORY_002 ====\n",
      "==== SEG CATEGORY_003 ====\n",
      "==== SEG CATEGORY_004 ====\n",
      "==== SEG CATEGORY_005 ====\n",
      "==== SEG CATEGORY_006 ====\n",
      "==== SEG CATEGORY_007 ====\n",
      "==== SEG CATEGORY_008 ====\n",
      "==== SEG CATEGORY_009 ====\n",
      "==== SEG CATEGORY_010 ====\n",
      "==== SEG CATEGORY_011 ====\n",
      "==== SEG CATEGORY_012 ====\n",
      "==== SEG CATEGORY_013 ====\n",
      "==== SEG CATEGORY_014 ====\n",
      "==== SEG CATEGORY_015 ====\n",
      "==== SEG CATEGORY_016 ====\n",
      "==== SEG CATEGORY_017 ====\n",
      "==== SEG CATEGORY_018 ====\n",
      "==== SEG CATEGORY_019 ====\n",
      "---> SEG/Setop map creation completed. <---\n",
      "CPU times: user 337 ms, sys: 64.7 ms, total: 402 ms\n",
      "Wall time: 6min 59s\n"
     ]
    }
   ],
   "source": [
    "%%time\n",
    "# 20 카테고리 세탑 맵을 생성하는데, 약 7분 소요. 2억 건.   \n",
    "tbl_segmap = f'inven/table-segmap-{partition_num}-{scale}'\n",
    "# 세톱 데이터를 읽어들인다. \n",
    "# 타겟, 세톱 \n",
    "spark.read.format(file_format).load(tbl_setop_name).createOrReplaceTempView('setop_view')\n",
    "# A, B 세탑을 맵에 할당한다.  \n",
    "## A 세탑을 첫번째 타겟에 할당  \n",
    "print('--- read data completed. ---')\n",
    "# 매번 새로운 값으로 덮어쓰기. for 안에 실행되는 부분은 덧붙이기. \n",
    "write_mode = 'overwrite'\n",
    "segs = create_target()\n",
    "for seg in segs:\n",
    "    print(f'==== SEG {seg} ====')\n",
    "    for setop in ['A', 'B', 'C', 'D', 'E', 'F', 'G', 'H', 'I', 'J'] :\n",
    "        ### A, setop_id 형태로 생성  \n",
    "        df = spark.sql(f\"select '{seg}' target, setop from setop_view where setop like 'ST_{setop}%'\")\n",
    "        df.write.save(path=tbl_segmap, format=file_format, mode=write_mode)\n",
    "        write_mode = 'append'\n",
    "        #print('--- write end  ---')\n",
    "\n",
    "print('---> SEG/Setop map creation completed. <---')"
   ]
  },
  {
   "cell_type": "code",
   "execution_count": 14,
   "id": "cbf566a7-7e9a-4845-adbc-d4b0dde5acf9",
   "metadata": {},
   "outputs": [
    {
     "name": "stdout",
     "output_type": "stream",
     "text": [
      "+------------+--------+\n",
      "|      target|count(1)|\n",
      "+------------+--------+\n",
      "|CATEGORY_013|10000000|\n",
      "|CATEGORY_016|10000000|\n",
      "|CATEGORY_014|10000000|\n",
      "|CATEGORY_006|10000000|\n",
      "|CATEGORY_009|10000000|\n",
      "|CATEGORY_010|10000000|\n",
      "|CATEGORY_004|10000000|\n",
      "|CATEGORY_005|10000000|\n",
      "|CATEGORY_018|10000000|\n",
      "|CATEGORY_000|10000000|\n",
      "|CATEGORY_017|10000000|\n",
      "|CATEGORY_012|10000000|\n",
      "|CATEGORY_002|10000000|\n",
      "|CATEGORY_001|10000000|\n",
      "|CATEGORY_019|10000000|\n",
      "|CATEGORY_008|10000000|\n",
      "|CATEGORY_003|10000000|\n",
      "|CATEGORY_015|10000000|\n",
      "|CATEGORY_007|10000000|\n",
      "|CATEGORY_011|10000000|\n",
      "+------------+--------+\n",
      "\n",
      "CPU times: user 4.36 ms, sys: 3.67 ms, total: 8.03 ms\n",
      "Wall time: 16.4 s\n"
     ]
    }
   ],
   "source": [
    "%%time\n",
    "spark.read.format(file_format).load(tbl_segmap).createOrReplaceTempView('view')\n",
    "spark.sql(\"select target, count(1) from view group by target\").show()"
   ]
  },
  {
   "cell_type": "code",
   "execution_count": 15,
   "id": "8388b65d-c6a4-42b9-aef7-42832525b586",
   "metadata": {},
   "outputs": [],
   "source": [
    "spark.stop()"
   ]
  }
 ],
 "metadata": {
  "kernelspec": {
   "display_name": "Python 3",
   "language": "python",
   "name": "python3"
  },
  "language_info": {
   "codemirror_mode": {
    "name": "ipython",
    "version": 3
   },
   "file_extension": ".py",
   "mimetype": "text/x-python",
   "name": "python",
   "nbconvert_exporter": "python",
   "pygments_lexer": "ipython3",
   "version": "3.6.9"
  }
 },
 "nbformat": 4,
 "nbformat_minor": 5
}
