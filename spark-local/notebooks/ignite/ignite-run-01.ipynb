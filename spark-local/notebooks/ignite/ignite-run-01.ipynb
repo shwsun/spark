{
 "cells": [
  {
   "cell_type": "code",
   "execution_count": 1,
   "id": "5c83369e-0aaf-43ce-bac7-5cf6be5a353e",
   "metadata": {},
   "outputs": [],
   "source": [
    "#!pip install pyignite "
   ]
  },
  {
   "cell_type": "code",
   "execution_count": 2,
   "id": "af299c0d-36fe-4584-bf52-2f0e19899c38",
   "metadata": {},
   "outputs": [
    {
     "name": "stdout",
     "output_type": "stream",
     "text": [
      "Hello World\n"
     ]
    }
   ],
   "source": [
    "from pyignite import Client\n",
    "\n",
    "client = Client()\n",
    "client.connect('127.0.0.1', 10800)\n",
    "\n",
    "#Create cache\n",
    "my_cache = client.create_cache('my cache')\n",
    "\n",
    "#Put value in cache\n",
    "my_cache.put(1, 'Hello World')\n",
    "\n",
    "# #Get value from cache\n",
    "# result = my_cache.get(1)\n",
    "# print(result)"
   ]
  },
  {
   "cell_type": "code",
   "execution_count": 4,
   "id": "0a484793-12d9-4fb8-9b20-d8dd6b006719",
   "metadata": {},
   "outputs": [
    {
     "name": "stdout",
     "output_type": "stream",
     "text": [
      "Hello World2\n"
     ]
    }
   ],
   "source": [
    "my_cache.put(2, 'Hello World2')\n",
    "\n",
    "result = my_cache.get(2)\n",
    "print(result)"
   ]
  },
  {
   "cell_type": "code",
   "execution_count": 6,
   "id": "9c629937-142a-46dc-a8cb-b2b08a5ec8a4",
   "metadata": {},
   "outputs": [],
   "source": [
    "from pprint import pprint\n",
    "\n",
    "from helpers.converters import obj_to_dict\n",
    "from helpers.sql_helper import TableNames, Query, TestData\n",
    "from pyignite import Client\n",
    "from pyignite.datatypes.prop_codes import PROP_NAME, PROP_QUERY_ENTITIES"
   ]
  },
  {
   "cell_type": "code",
   "execution_count": 7,
   "id": "e795b4cb-c77f-4452-9daf-97f8cf025904",
   "metadata": {},
   "outputs": [],
   "source": [
    "# create tables\n",
    "for query in [\n",
    "    Query.COUNTRY_CREATE_TABLE,\n",
    "    Query.CITY_CREATE_TABLE,\n",
    "    Query.LANGUAGE_CREATE_TABLE,\n",
    "]:\n",
    "    client.sql(query)"
   ]
  },
  {
   "cell_type": "code",
   "execution_count": 8,
   "id": "d4defb25-22a7-4ef2-a71c-9caf73165cca",
   "metadata": {},
   "outputs": [],
   "source": [
    "# create indices\n",
    "for query in [Query.CITY_CREATE_INDEX, Query.LANGUAGE_CREATE_INDEX]:\n",
    "    client.sql(query)\n",
    "\n",
    "# load data\n",
    "for row in TestData.COUNTRY:\n",
    "    client.sql(Query.COUNTRY_INSERT, query_args=row)\n",
    "\n",
    "for row in TestData.CITY:\n",
    "    client.sql(Query.CITY_INSERT, query_args=row)\n",
    "\n",
    "for row in TestData.LANGUAGE:\n",
    "    client.sql(Query.LANGUAGE_INSERT, query_args=row)"
   ]
  },
  {
   "cell_type": "code",
   "execution_count": 9,
   "id": "0b1b624f-3d26-4b3b-bce7-5f4c01998b76",
   "metadata": {},
   "outputs": [
    {
     "name": "stdout",
     "output_type": "stream",
     "text": [
      "['SQL_PUBLIC_CITY',\n",
      " 'my cache',\n",
      " 'SQL_PUBLIC_COUNTRY',\n",
      " 'SQL_PUBLIC_COUNTRYLANGUAGE']\n",
      "'SQL_PUBLIC_CITY'\n",
      "[{'field_name_aliases': [{'alias': 'DISTRICT', 'field_name': 'DISTRICT'},\n",
      "                         {'alias': 'POPULATION', 'field_name': 'POPULATION'},\n",
      "                         {'alias': 'COUNTRYCODE', 'field_name': 'COUNTRYCODE'},\n",
      "                         {'alias': 'ID', 'field_name': 'ID'},\n",
      "                         {'alias': 'NAME', 'field_name': 'NAME'}],\n",
      "  'key_field_name': None,\n",
      "  'key_type_name': 'SQL_PUBLIC_CITY_c0c762fe_2f6c_4a64_ae5e_3ca7552dca28_KEY',\n",
      "  'query_fields': [{'default_value': None,\n",
      "                    'is_key_field': True,\n",
      "                    'is_notnull_constraint_field': False,\n",
      "                    'name': 'ID',\n",
      "                    'precision': -1,\n",
      "                    'scale': -1,\n",
      "                    'type_name': 'java.lang.Integer'},\n",
      "                   {'default_value': None,\n",
      "                    'is_key_field': False,\n",
      "                    'is_notnull_constraint_field': False,\n",
      "                    'name': 'NAME',\n",
      "                    'precision': 35,\n",
      "                    'scale': -1,\n",
      "                    'type_name': 'java.lang.String'},\n",
      "                   {'default_value': None,\n",
      "                    'is_key_field': True,\n",
      "                    'is_notnull_constraint_field': False,\n",
      "                    'name': 'COUNTRYCODE',\n",
      "                    'precision': 3,\n",
      "                    'scale': -1,\n",
      "                    'type_name': 'java.lang.String'},\n",
      "                   {'default_value': None,\n",
      "                    'is_key_field': False,\n",
      "                    'is_notnull_constraint_field': False,\n",
      "                    'name': 'DISTRICT',\n",
      "                    'precision': 20,\n",
      "                    'scale': -1,\n",
      "                    'type_name': 'java.lang.String'},\n",
      "                   {'default_value': None,\n",
      "                    'is_key_field': False,\n",
      "                    'is_notnull_constraint_field': False,\n",
      "                    'name': 'POPULATION',\n",
      "                    'precision': -1,\n",
      "                    'scale': -1,\n",
      "                    'type_name': 'java.lang.Integer'}],\n",
      "  'query_indexes': [],\n",
      "  'table_name': 'CITY',\n",
      "  'value_field_name': None,\n",
      "  'value_type_name': 'SQL_PUBLIC_CITY_c0c762fe_2f6c_4a64_ae5e_3ca7552dca28'}]\n"
     ]
    }
   ],
   "source": [
    "# examine the storage\n",
    "result = client.get_cache_names()\n",
    "pprint(result)\n",
    "# ['SQL_PUBLIC_CITY', 'SQL_PUBLIC_COUNTRY', 'SQL_PUBLIC_COUNTRYLANGUAGE']\n",
    "\n",
    "city_cache = client.get_or_create_cache('SQL_PUBLIC_CITY')\n",
    "pprint(city_cache.settings[PROP_NAME])\n",
    "# 'SQL_PUBLIC_CITY'\n",
    "\n",
    "pprint(city_cache.settings[PROP_QUERY_ENTITIES])"
   ]
  },
  {
   "cell_type": "code",
   "execution_count": 10,
   "id": "d6f9cdd6-c0ba-4be0-8872-6084e7eb4c4e",
   "metadata": {},
   "outputs": [
    {
     "name": "stdout",
     "output_type": "stream",
     "text": [
      "--------------------\n",
      "{'COUNTRYCODE': 'CHN',\n",
      " 'ID': 1890,\n",
      " 'type_name': 'SQL_PUBLIC_CITY_c0c762fe_2f6c_4a64_ae5e_3ca7552dca28_KEY'}\n",
      "{'DISTRICT': 'Shanghai',\n",
      " 'NAME': 'Shanghai',\n",
      " 'POPULATION': 9696300,\n",
      " 'type_name': 'SQL_PUBLIC_CITY_c0c762fe_2f6c_4a64_ae5e_3ca7552dca28'}\n"
     ]
    }
   ],
   "source": [
    "print('-' * 20)\n",
    "with city_cache.scan() as cursor:\n",
    "    for line in next(cursor):\n",
    "        pprint(obj_to_dict(line))"
   ]
  },
  {
   "cell_type": "code",
   "execution_count": 12,
   "id": "37009feb-e5e9-44da-a569-f0a406eb17ae",
   "metadata": {},
   "outputs": [
    {
     "name": "stdout",
     "output_type": "stream",
     "text": [
      "--------------------\n",
      "SQL_PUBLIC_CITY_c0c762fe_2f6c_4a64_ae5e_3ca7552dca28_KEY(ID=1890, COUNTRYCODE='CHN', version=1)\n",
      "SQL_PUBLIC_CITY_c0c762fe_2f6c_4a64_ae5e_3ca7552dca28(NAME='Shanghai', DISTRICT='Shanghai', POPULATION=9696300, version=1)\n"
     ]
    }
   ],
   "source": [
    "print('-' * 20)\n",
    "with client.sql('SELECT _KEY, _VAL FROM CITY WHERE ID = ?', query_args=[1890]) as cursor:\n",
    "    for line in next(cursor):\n",
    "        # pprint(obj_to_dict(line))\n",
    "        pprint(line)"
   ]
  },
  {
   "cell_type": "code",
   "execution_count": 13,
   "id": "39e36a46-fca1-49b9-817b-960f299a1855",
   "metadata": {},
   "outputs": [
    {
     "name": "stdout",
     "output_type": "stream",
     "text": [
      "Most 10 populated cities in USA, India and China:\n",
      "COUNTRY_NAME   \t| CITY_NAME           \t| MAX_POP\n",
      "**************************************************\n",
      "India          \t| Mumbai (Bombay)     \t| 10500000\n",
      "China          \t| Shanghai            \t| 9696300\n",
      "United States  \t| New York            \t| 8008278\n",
      "China          \t| Peking              \t| 7472000\n",
      "India          \t| Delhi               \t| 7206704\n",
      "China          \t| Chongqing           \t| 6351600\n",
      "China          \t| Tianjin             \t| 5286800\n",
      "India          \t| Calcutta [Kolkata]  \t| 4399819\n",
      "China          \t| Wuhan               \t| 4344600\n",
      "China          \t| Harbin              \t| 4289800\n"
     ]
    }
   ],
   "source": [
    "MOST_POPULATED_IN_3_COUNTRIES = '''\n",
    "SELECT country.name as country_name, city.name as city_name, MAX(city.population) AS max_pop FROM country\n",
    "    JOIN city ON city.countrycode = country.code\n",
    "    WHERE country.code IN ('USA','IND','CHN')\n",
    "    GROUP BY country.name, city.name ORDER BY max_pop DESC LIMIT 10\n",
    "'''\n",
    "\n",
    "with client.sql(MOST_POPULATED_IN_3_COUNTRIES, include_field_names=True) as cursor:\n",
    "    print('Most 10 populated cities in USA, India and China:')\n",
    "    table_str_pattern = '{:15}\\t| {:20}\\t| {}'\n",
    "    print(table_str_pattern.format(*next(cursor)))\n",
    "    print('*' * 50)\n",
    "    for row in cursor:\n",
    "        print(table_str_pattern.format(*row))"
   ]
  },
  {
   "cell_type": "code",
   "execution_count": 14,
   "id": "8dce14c6-5594-4554-9623-0ab85ac80fb9",
   "metadata": {},
   "outputs": [
    {
     "data": {
      "text/plain": [
       "'INSERT INTO Country(\\n        Code, Name, Continent, Region,\\n        SurfaceArea, IndepYear, Population,\\n        LifeExpectancy, GNP, GNPOld,\\n        LocalName, GovernmentForm, HeadOfState,\\n        Capital, Code2\\n    ) VALUES (?, ?, ?, ?, ?, ?, ?, ?, ?, ?, ?, ?, ?, ?, ?)'"
      ]
     },
     "execution_count": 14,
     "metadata": {},
     "output_type": "execute_result"
    }
   ],
   "source": [
    "Query.COUNTRY_INSERT"
   ]
  },
  {
   "cell_type": "code",
   "execution_count": 15,
   "id": "fcc03b6b-604b-42f9-b75f-ba338562cfed",
   "metadata": {},
   "outputs": [
    {
     "name": "stdout",
     "output_type": "stream",
     "text": [
      "['USA', 'United States', 'North America', 'North America', Decimal('9363520.00'), 1776, 278357000, Decimal('77.1'), Decimal('8510700.00'), Decimal('8110900.00'), 'United States', 'Federal Republic', 'George W. Bush', 3813, 'US']\n",
      "['IND', 'India', 'Asia', 'Southern and Central Asia', Decimal('3287263.00'), 1947, 1013662000, Decimal('62.5'), Decimal('447114.00'), Decimal('430572.00'), 'Bharat/India', 'Federal Republic', 'Kocheril Raman Narayanan', 1109, 'IN']\n",
      "['CHN', 'China', 'Asia', 'Eastern Asia', Decimal('9572900.00'), -1523, 1277558000, Decimal('71.4'), Decimal('982268.00'), Decimal('917719.00'), 'Zhongquo', 'PeoplesRepublic', 'Jiang Zemin', 1891, 'CN']\n"
     ]
    }
   ],
   "source": [
    "for row in TestData.COUNTRY:\n",
    "    print(row)\n",
    "# client.sql(Query.CITY_INSERT, query_args=row)"
   ]
  },
  {
   "cell_type": "code",
   "execution_count": 28,
   "id": "df0a43f0-568b-4ab2-aaff-b61fd709a7f2",
   "metadata": {},
   "outputs": [],
   "source": [
    "create_sql = \"\"\"\n",
    "CREATE TABLE SEG_MAP (\n",
    "    ID int(11) PRIMARY KEY,\n",
    "    SEG VARCHAR(20) ,\n",
    "    SA_ID VARCHAR(20)\n",
    ")\n",
    "\"\"\"\n",
    "insert_sql = \"\"\"\n",
    "INSERT INTO SEG_MAP(ID, SEG, SA_ID) VALUES(?, ?, ?)\n",
    "\"\"\"\n",
    "rows = [\n",
    "    [ 1, 'SEG_01', '1'],\n",
    "    [ 2, 'SEG_01', '2']\n",
    "]"
   ]
  },
  {
   "cell_type": "code",
   "execution_count": 26,
   "id": "ec11895e-0780-404b-97b8-32373633efcd",
   "metadata": {},
   "outputs": [
    {
     "data": {
      "text/plain": [
       "<pyignite.cursors.SqlFieldsCursor at 0x7fd8909e8978>"
      ]
     },
     "execution_count": 26,
     "metadata": {},
     "output_type": "execute_result"
    }
   ],
   "source": [
    "client.sql(create_sql)"
   ]
  },
  {
   "cell_type": "code",
   "execution_count": 29,
   "id": "f72ca1dd-d528-4922-9ded-15e60089143c",
   "metadata": {},
   "outputs": [],
   "source": [
    "for row in rows:\n",
    "    client.sql(insert_sql, query_args=row)"
   ]
  },
  {
   "cell_type": "code",
   "execution_count": 30,
   "id": "b8fabfdb-270c-47eb-9323-8585a4d3f34c",
   "metadata": {},
   "outputs": [
    {
     "name": "stdout",
     "output_type": "stream",
     "text": [
      "[1, 'SEG_01', '1']\n",
      "[2, 'SEG_01', '2']\n"
     ]
    }
   ],
   "source": [
    "with client.sql(\"select * from SEG_MAP\") as cursor:\n",
    "    for row in cursor:\n",
    "        print(row)"
   ]
  },
  {
   "cell_type": "code",
   "execution_count": 36,
   "id": "e46d3d49-b726-4120-ad9b-dd40dee2ce1e",
   "metadata": {},
   "outputs": [
    {
     "name": "stdout",
     "output_type": "stream",
     "text": [
      "5000\n"
     ]
    }
   ],
   "source": [
    "# 200 개 SEG(일련변호), 50만 setop (0~600만 랜덤 샘플링  \n",
    "# 200 * 50 * 10000 => 1억건 맵 샘플 데이터를 바로 ignite에 입력해 보기  \n",
    "arr_seg = range(0, 200)\n",
    "arr_sa_id = range(0, 5000)\n",
    "insert_sql = \"\"\"\n",
    "INSERT INTO SEG_MAP(ID, SEG, SA_ID) VALUES(?, ?, ?)\n",
    "\"\"\"\n",
    "rows = []\n",
    "\n",
    "for i in arr_sa_id:\n",
    "    rows.append([i, 'SEG_01', i])\n",
    "        \n",
    "print(len(rows))"
   ]
  },
  {
   "cell_type": "code",
   "execution_count": 37,
   "id": "c8ac327c-43e8-49ea-a335-0204a5c7555b",
   "metadata": {},
   "outputs": [
    {
     "data": {
      "text/plain": [
       "<pyignite.cursors.SqlFieldsCursor at 0x7fd890c6d6d8>"
      ]
     },
     "execution_count": 37,
     "metadata": {},
     "output_type": "execute_result"
    }
   ],
   "source": [
    "client.sql(\"delete from SEG_MAP\")"
   ]
  },
  {
   "cell_type": "code",
   "execution_count": 38,
   "id": "4d77ab4b-c4ae-4675-ae65-56bcc49e0587",
   "metadata": {},
   "outputs": [
    {
     "name": "stdout",
     "output_type": "stream",
     "text": [
      "CPU times: user 4.27 s, sys: 324 ms, total: 4.6 s\n",
      "Wall time: 8.22 s\n"
     ]
    }
   ],
   "source": [
    "%%time\n",
    "for row in rows:\n",
    "    client.sql(insert_sql, query_args=row)"
   ]
  },
  {
   "cell_type": "code",
   "execution_count": 39,
   "id": "6f5f3f29-85d1-473a-84c4-95dcab1a8052",
   "metadata": {},
   "outputs": [
    {
     "name": "stderr",
     "output_type": "stream",
     "text": [
      "WARNING:root:'PYARROW_IGNORE_TIMEZONE' environment variable was not set. It is required to set this environment variable to '1' in both driver and executor sides if you use pyarrow>=2.0.0. pandas-on-Spark will set it for you but it does not work if there is a Spark context already launched.\n"
     ]
    }
   ],
   "source": [
    "import pyspark.pandas "
   ]
  },
  {
   "cell_type": "code",
   "execution_count": null,
   "id": "ae7b8da0-7fe7-47fb-b63c-61cc632ea418",
   "metadata": {},
   "outputs": [],
   "source": [
    "# insert 방식 데이터 생성 속도 느림.\n",
    "# spark dataframe -> ignite 저장 방식으로 테스트  \n",
    "sdf.write.format(\"ignite\").option(\"table\", \"seg_map\").save()"
   ]
  },
  {
   "cell_type": "code",
   "execution_count": null,
   "id": "a1f541f8-b10f-4b4f-91a8-4c57e8ff8521",
   "metadata": {},
   "outputs": [],
   "source": []
  }
 ],
 "metadata": {
  "kernelspec": {
   "display_name": "Python 3",
   "language": "python",
   "name": "python3"
  },
  "language_info": {
   "codemirror_mode": {
    "name": "ipython",
    "version": 3
   },
   "file_extension": ".py",
   "mimetype": "text/x-python",
   "name": "python",
   "nbconvert_exporter": "python",
   "pygments_lexer": "ipython3",
   "version": "3.6.9"
  }
 },
 "nbformat": 4,
 "nbformat_minor": 5
}
